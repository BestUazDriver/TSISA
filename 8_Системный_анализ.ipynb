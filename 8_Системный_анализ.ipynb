{
  "cells": [
    {
      "cell_type": "markdown",
      "metadata": {
        "id": "view-in-github",
        "colab_type": "text"
      },
      "source": [
        "<a href=\"https://colab.research.google.com/github/BestUazDriver/TSISA/blob/main/8_%D0%A1%D0%B8%D1%81%D1%82%D0%B5%D0%BC%D0%BD%D1%8B%D0%B9_%D0%B0%D0%BD%D0%B0%D0%BB%D0%B8%D0%B7.ipynb\" target=\"_parent\"><img src=\"https://colab.research.google.com/assets/colab-badge.svg\" alt=\"Open In Colab\"/></a>"
      ]
    },
    {
      "cell_type": "markdown",
      "metadata": {
        "id": "DrS-kQGSdowR"
      },
      "source": [
        "# Практическое занятие №8.1. Экспертные системы.\n",
        "\n",
        "Создайте экспертную систему для постановки диагноза и рекомендации лечения.\n",
        "\n",
        "1. Выберите не менее двух диагнозов. При выборе диагнозов нужно использовать:\n",
        "\n",
        "- а) лекцию по спреям;\n",
        "- б) Анемии 2.pptx;\n",
        "- в) med.xlsx.\n",
        "\n",
        "Диагнозы, которые никак не касаются содержимого этих документов, выбиратбь нельзя!\n",
        "\n",
        "2. В интерфейсе пользователя предусмотрите возможность ввода результатов лабораторных исследований, осмотра врача, жалоб пациентов.\n",
        "3. В базе знаний анализируйте значения следующих переменных:\n",
        "- $А_1=(А_{11}, А_{12}, …, A_{1k}\\})=\\{\\text {результаты лабораторных исследований}\\}$;\n",
        "- $А_2=(А_{21}, А_{22}, …, A_{2m})=\\{\\text {результаты объективного осмотра}\\}$;\n",
        "- $А_3=(А_{31}, А_{32}, …, A_{3n})=\\{\\text {жалобы пациента}\\}$;\n",
        "- $А_4=(А_{41}, А_{42}, …, A_{4N})=\\{\\text {диагнозы}\\}$;\n",
        "- $А_5=(А_{51}, А_{52}, …, A_{5M})=\\{\\text {лечение}\\}$.\n",
        "\n",
        "Для создания правил расставьте приоритеты обращения к переменным. При необходимости добавьте другие типы переменных. Использование всех вышеперечисленных переменных не обязательно.\n",
        "\n",
        "4. К каждому созданному правилу приложите компоненту объяснения на естественном языке.\n",
        "5. В механизме логического вывода используйте структуру бинарного дерева.\n",
        "6. Результатом работы системы могут являться диагноз и рекомендации к лечению.\n",
        "7. Создайте модуль для кластеризации данных, используя карту Кохонена, выбрав три медицинских показателя из файла med.xlsx. Проведите анализ полученной цветовой гаммы.\n",
        "\n",
        "\n",
        "\n"
      ]
    },
    {
      "cell_type": "code",
      "execution_count": null,
      "metadata": {
        "id": "zzd8abk2Bfvc"
      },
      "outputs": [],
      "source": [
        "from collections import Counter\n",
        "from random import uniform\n",
        "\n",
        "import pandas as pd\n",
        "import numpy as np\n",
        "from tqdm.notebook import tqdm\n",
        "\n",
        "from sklearn.compose import ColumnTransformer\n",
        "from sklearn.preprocessing import StandardScaler, LabelEncoder\n",
        "from sklearn.model_selection import train_test_split, GridSearchCV\n",
        "\n",
        "from sklearn.metrics import accuracy_score\n",
        "\n",
        "from sklearn.neighbors import KNeighborsClassifier\n",
        "from sklearn.tree import DecisionTreeClassifier\n",
        "\n",
        "\n",
        "import seaborn as sns\n",
        "import matplotlib.pyplot as plt\n",
        "%matplotlib inline\n",
        "\n",
        "\n",
        "from IPython.display import clear_output\n",
        "\n",
        "import warnings\n",
        "\n",
        "warnings.filterwarnings(\"ignore\")\n",
        "\n",
        "# No warnings about setting value on copy of slice\n",
        "pd.options.mode.chained_assignment = None\n",
        "# Display up to 300 columns of a dataframe\n",
        "pd.set_option(\"display.max_columns\", 300)\n",
        "\n",
        "plt.rcParams[\"font.size\"] = 24\n",
        "sns.set(style=\"darkgrid\", font_scale=2)\n",
        "sns.set_style({\"font.family\": \"serif\"})\n"
      ]
    },
    {
      "cell_type": "code",
      "source": [
        "file_path = \"med.xlsx\"\n",
        "data = pd.read_excel(file_path)"
      ],
      "metadata": {
        "id": "PkoHMG1OgANJ"
      },
      "execution_count": null,
      "outputs": []
    },
    {
      "cell_type": "code",
      "execution_count": null,
      "metadata": {
        "id": "crP7DnEKjpvT"
      },
      "outputs": [],
      "source": [
        "def display_dataframe(df: pd.DataFrame) -> None:\n",
        "    display(df.shape, pd.concat((pd.concat((df.head(2), df.sample(3))), df.tail(2))))"
      ]
    },
    {
      "cell_type": "code",
      "source": [
        "display_dataframe(data)"
      ],
      "metadata": {
        "colab": {
          "base_uri": "https://localhost:8080/",
          "height": 706
        },
        "id": "v-yFspsQgeWB",
        "outputId": "6f556742-cbf1-4b72-8143-34d7c35ebfe6"
      },
      "execution_count": null,
      "outputs": [
        {
          "output_type": "display_data",
          "data": {
            "text/plain": [
              "(115262, 28)"
            ]
          },
          "metadata": {}
        },
        {
          "output_type": "display_data",
          "data": {
            "text/plain": [
              "           Nr. Reference Date                Principal Practitioner Name CVRM  \\\n",
              "0            1     2020-12-31                   Сулейманова, Фирюза Харисовна   \n",
              "1            2     2020-12-31  Васильевская УБ - Габитова, Ильмира Шавкатовна   \n",
              "15618    15619     2020-12-31             ТО3 - Фатхутдинов, Ильфат Маратович   \n",
              "384        385     2020-12-31                    Жданова, Екатерина Ильинична   \n",
              "52984    52985     2020-12-31          ПО1 - Петрашова, Надежда Александровна   \n",
              "115260  115261     2020-12-31                        Кокорин, Михаил Иванович   \n",
              "115261  115262     2020-12-31                   Абзалутдинова, Сания Изаховна   \n",
              "\n",
              "       Organisation Name (CVRM Treatment)  \\\n",
              "0              ГП №9 при ГБ5 г.Наб. Челны   \n",
              "1                  ПО Прочие Зеленод. ЦРБ   \n",
              "15618                    ГП №18 г. Казани   \n",
              "384                      ГКБ №18 г.Казань   \n",
              "52984                  НЦРМБ г.Нижнекамск   \n",
              "115260         ГП №5 при ГБ5 г.Наб. Челны   \n",
              "115261                    ГП №21 г.Казань   \n",
              "\n",
              "        Organisation Name (CVRM Treatment).1 Treatment Startdate CVRM  \\\n",
              "0                                          1               2018-11-19   \n",
              "1                                          1               2019-11-03   \n",
              "15618                                      1               2019-08-27   \n",
              "384                                        1               2018-12-19   \n",
              "52984                                      1               2019-12-15   \n",
              "115260                                     1               2018-11-26   \n",
              "115261                                     1               2018-11-26   \n",
              "\n",
              "        Risk Score CVRM  MDRD MDRD, last measurement date  Glucose Fasting  \\\n",
              "0                   NaN   NaN                         NaT              NaN   \n",
              "1                   4.0  65.0                  2019-10-21              5.0   \n",
              "15618               5.0   NaN                         NaT              6.1   \n",
              "384                 NaN   NaN                         NaT              5.1   \n",
              "52984               NaN  56.0                  2019-11-29              6.1   \n",
              "115260              5.0   NaN                         NaT              5.7   \n",
              "115261              NaN   NaN                         NaT              NaN   \n",
              "\n",
              "       Glucose Fasting, last measurement date  Total Cholesterol  \\\n",
              "0                                         NaT                5.0   \n",
              "1                                  2019-10-21                5.8   \n",
              "15618                              2019-08-09                7.0   \n",
              "384                                2018-12-18                6.4   \n",
              "52984                              2019-11-29                4.0   \n",
              "115260                             2019-03-25                5.1   \n",
              "115261                                    NaT                NaN   \n",
              "\n",
              "       Total Cholesterol, last measurement date  Systolic Blood Pressure  \\\n",
              "0                                    2019-07-04                    130.0   \n",
              "1                                    2019-10-21                    130.0   \n",
              "15618                                2019-08-09                    136.0   \n",
              "384                                  2018-12-18                    140.0   \n",
              "52984                                2019-11-29                    150.0   \n",
              "115260                               2019-03-25                    135.0   \n",
              "115261                                      NaT                    160.0   \n",
              "\n",
              "        Diastolic Blood Pressure  \\\n",
              "0                           80.0   \n",
              "1                           90.0   \n",
              "15618                       68.0   \n",
              "384                         80.0   \n",
              "52984                       80.0   \n",
              "115260                      80.0   \n",
              "115261                     100.0   \n",
              "\n",
              "       Systolic Blood Pressure, last measurement date   BMI  \\\n",
              "0                                          2018-11-19  25.0   \n",
              "1                                          2010-10-25  28.0   \n",
              "15618                                      2019-08-27   NaN   \n",
              "384                                        2019-12-14  28.0   \n",
              "52984                                      2019-12-06  37.0   \n",
              "115260                                     2019-09-13  27.0   \n",
              "115261                                     2020-02-20  31.0   \n",
              "\n",
              "       BMI, last measurement date Primary / Secondary CVRM Smoking Status  \\\n",
              "0                      2018-11-19                  Primary          Never   \n",
              "1                      2010-10-25                  Primary          Never   \n",
              "15618                         NaT                  Primary          Never   \n",
              "384                    2018-12-19                  Primary            NaN   \n",
              "52984                  2019-12-06                Secondary          Never   \n",
              "115260                 2019-09-13                  Primary          Never   \n",
              "115261                 2020-02-20                  Primary          Never   \n",
              "\n",
              "       Date Last Contact CVRM Patient Gender  Age Hypertension  \\\n",
              "0                  2018-11-19              M   62          Yes   \n",
              "1                  2010-10-25              F   76          Yes   \n",
              "15618              2019-08-27              F   79          NaN   \n",
              "384                2019-12-14              F   80          NaN   \n",
              "52984              2019-12-06              F   73          Yes   \n",
              "115260             2019-09-13              M   62          Yes   \n",
              "115261             2020-02-20              F   79          Yes   \n",
              "\n",
              "       Annual Checkup CVRM (Dutch version), Date Last  \\\n",
              "0                                                 NaT   \n",
              "1                                                 NaT   \n",
              "15618                                             NaT   \n",
              "384                                               NaT   \n",
              "52984                                             NaT   \n",
              "115260                                     2018-11-26   \n",
              "115261                                     2018-11-26   \n",
              "\n",
              "       Annual Checkup CVRM (Russian version), Date Last  \\\n",
              "0                                            1920-10-25   \n",
              "1                                            2010-10-25   \n",
              "15618                                        2019-08-27   \n",
              "384                                          2018-12-19   \n",
              "52984                                        2019-12-06   \n",
              "115260                                              NaT   \n",
              "115261                                              NaT   \n",
              "\n",
              "       Date Last Interim Checkup CVRM (Dutch version)  \\\n",
              "0                                          2018-11-19   \n",
              "1                                                 NaT   \n",
              "15618                                             NaT   \n",
              "384                                               NaT   \n",
              "52984                                             NaT   \n",
              "115260                                            NaT   \n",
              "115261                                            NaT   \n",
              "\n",
              "       Date Last Interim Checkup CVRM (Russian version)  \n",
              "0                                                   NaT  \n",
              "1                                                   NaT  \n",
              "15618                                               NaT  \n",
              "384                                          2019-12-14  \n",
              "52984                                               NaT  \n",
              "115260                                       2019-09-13  \n",
              "115261                                       2020-02-20  "
            ],
            "text/html": [
              "\n",
              "  <div id=\"df-0c8a255b-7478-4f6b-b632-93d36afa2322\" class=\"colab-df-container\">\n",
              "    <div>\n",
              "<style scoped>\n",
              "    .dataframe tbody tr th:only-of-type {\n",
              "        vertical-align: middle;\n",
              "    }\n",
              "\n",
              "    .dataframe tbody tr th {\n",
              "        vertical-align: top;\n",
              "    }\n",
              "\n",
              "    .dataframe thead th {\n",
              "        text-align: right;\n",
              "    }\n",
              "</style>\n",
              "<table border=\"1\" class=\"dataframe\">\n",
              "  <thead>\n",
              "    <tr style=\"text-align: right;\">\n",
              "      <th></th>\n",
              "      <th>Nr.</th>\n",
              "      <th>Reference Date</th>\n",
              "      <th>Principal Practitioner Name CVRM</th>\n",
              "      <th>Organisation Name (CVRM Treatment)</th>\n",
              "      <th>Organisation Name (CVRM Treatment).1</th>\n",
              "      <th>Treatment Startdate CVRM</th>\n",
              "      <th>Risk Score CVRM</th>\n",
              "      <th>MDRD</th>\n",
              "      <th>MDRD, last measurement date</th>\n",
              "      <th>Glucose Fasting</th>\n",
              "      <th>Glucose Fasting, last measurement date</th>\n",
              "      <th>Total Cholesterol</th>\n",
              "      <th>Total Cholesterol, last measurement date</th>\n",
              "      <th>Systolic Blood Pressure</th>\n",
              "      <th>Diastolic Blood Pressure</th>\n",
              "      <th>Systolic Blood Pressure, last measurement date</th>\n",
              "      <th>BMI</th>\n",
              "      <th>BMI, last measurement date</th>\n",
              "      <th>Primary / Secondary CVRM</th>\n",
              "      <th>Smoking Status</th>\n",
              "      <th>Date Last Contact CVRM</th>\n",
              "      <th>Patient Gender</th>\n",
              "      <th>Age</th>\n",
              "      <th>Hypertension</th>\n",
              "      <th>Annual Checkup CVRM (Dutch version), Date Last</th>\n",
              "      <th>Annual Checkup CVRM (Russian version), Date Last</th>\n",
              "      <th>Date Last Interim Checkup CVRM (Dutch version)</th>\n",
              "      <th>Date Last Interim Checkup CVRM (Russian version)</th>\n",
              "    </tr>\n",
              "  </thead>\n",
              "  <tbody>\n",
              "    <tr>\n",
              "      <th>0</th>\n",
              "      <td>1</td>\n",
              "      <td>2020-12-31</td>\n",
              "      <td>Сулейманова, Фирюза Харисовна</td>\n",
              "      <td>ГП №9 при ГБ5 г.Наб. Челны</td>\n",
              "      <td>1</td>\n",
              "      <td>2018-11-19</td>\n",
              "      <td>NaN</td>\n",
              "      <td>NaN</td>\n",
              "      <td>NaT</td>\n",
              "      <td>NaN</td>\n",
              "      <td>NaT</td>\n",
              "      <td>5.0</td>\n",
              "      <td>2019-07-04</td>\n",
              "      <td>130.0</td>\n",
              "      <td>80.0</td>\n",
              "      <td>2018-11-19</td>\n",
              "      <td>25.0</td>\n",
              "      <td>2018-11-19</td>\n",
              "      <td>Primary</td>\n",
              "      <td>Never</td>\n",
              "      <td>2018-11-19</td>\n",
              "      <td>M</td>\n",
              "      <td>62</td>\n",
              "      <td>Yes</td>\n",
              "      <td>NaT</td>\n",
              "      <td>1920-10-25</td>\n",
              "      <td>2018-11-19</td>\n",
              "      <td>NaT</td>\n",
              "    </tr>\n",
              "    <tr>\n",
              "      <th>1</th>\n",
              "      <td>2</td>\n",
              "      <td>2020-12-31</td>\n",
              "      <td>Васильевская УБ - Габитова, Ильмира Шавкатовна</td>\n",
              "      <td>ПО Прочие Зеленод. ЦРБ</td>\n",
              "      <td>1</td>\n",
              "      <td>2019-11-03</td>\n",
              "      <td>4.0</td>\n",
              "      <td>65.0</td>\n",
              "      <td>2019-10-21</td>\n",
              "      <td>5.0</td>\n",
              "      <td>2019-10-21</td>\n",
              "      <td>5.8</td>\n",
              "      <td>2019-10-21</td>\n",
              "      <td>130.0</td>\n",
              "      <td>90.0</td>\n",
              "      <td>2010-10-25</td>\n",
              "      <td>28.0</td>\n",
              "      <td>2010-10-25</td>\n",
              "      <td>Primary</td>\n",
              "      <td>Never</td>\n",
              "      <td>2010-10-25</td>\n",
              "      <td>F</td>\n",
              "      <td>76</td>\n",
              "      <td>Yes</td>\n",
              "      <td>NaT</td>\n",
              "      <td>2010-10-25</td>\n",
              "      <td>NaT</td>\n",
              "      <td>NaT</td>\n",
              "    </tr>\n",
              "    <tr>\n",
              "      <th>15618</th>\n",
              "      <td>15619</td>\n",
              "      <td>2020-12-31</td>\n",
              "      <td>ТО3 - Фатхутдинов, Ильфат Маратович</td>\n",
              "      <td>ГП №18 г. Казани</td>\n",
              "      <td>1</td>\n",
              "      <td>2019-08-27</td>\n",
              "      <td>5.0</td>\n",
              "      <td>NaN</td>\n",
              "      <td>NaT</td>\n",
              "      <td>6.1</td>\n",
              "      <td>2019-08-09</td>\n",
              "      <td>7.0</td>\n",
              "      <td>2019-08-09</td>\n",
              "      <td>136.0</td>\n",
              "      <td>68.0</td>\n",
              "      <td>2019-08-27</td>\n",
              "      <td>NaN</td>\n",
              "      <td>NaT</td>\n",
              "      <td>Primary</td>\n",
              "      <td>Never</td>\n",
              "      <td>2019-08-27</td>\n",
              "      <td>F</td>\n",
              "      <td>79</td>\n",
              "      <td>NaN</td>\n",
              "      <td>NaT</td>\n",
              "      <td>2019-08-27</td>\n",
              "      <td>NaT</td>\n",
              "      <td>NaT</td>\n",
              "    </tr>\n",
              "    <tr>\n",
              "      <th>384</th>\n",
              "      <td>385</td>\n",
              "      <td>2020-12-31</td>\n",
              "      <td>Жданова, Екатерина Ильинична</td>\n",
              "      <td>ГКБ №18 г.Казань</td>\n",
              "      <td>1</td>\n",
              "      <td>2018-12-19</td>\n",
              "      <td>NaN</td>\n",
              "      <td>NaN</td>\n",
              "      <td>NaT</td>\n",
              "      <td>5.1</td>\n",
              "      <td>2018-12-18</td>\n",
              "      <td>6.4</td>\n",
              "      <td>2018-12-18</td>\n",
              "      <td>140.0</td>\n",
              "      <td>80.0</td>\n",
              "      <td>2019-12-14</td>\n",
              "      <td>28.0</td>\n",
              "      <td>2018-12-19</td>\n",
              "      <td>Primary</td>\n",
              "      <td>NaN</td>\n",
              "      <td>2019-12-14</td>\n",
              "      <td>F</td>\n",
              "      <td>80</td>\n",
              "      <td>NaN</td>\n",
              "      <td>NaT</td>\n",
              "      <td>2018-12-19</td>\n",
              "      <td>NaT</td>\n",
              "      <td>2019-12-14</td>\n",
              "    </tr>\n",
              "    <tr>\n",
              "      <th>52984</th>\n",
              "      <td>52985</td>\n",
              "      <td>2020-12-31</td>\n",
              "      <td>ПО1 - Петрашова, Надежда Александровна</td>\n",
              "      <td>НЦРМБ г.Нижнекамск</td>\n",
              "      <td>1</td>\n",
              "      <td>2019-12-15</td>\n",
              "      <td>NaN</td>\n",
              "      <td>56.0</td>\n",
              "      <td>2019-11-29</td>\n",
              "      <td>6.1</td>\n",
              "      <td>2019-11-29</td>\n",
              "      <td>4.0</td>\n",
              "      <td>2019-11-29</td>\n",
              "      <td>150.0</td>\n",
              "      <td>80.0</td>\n",
              "      <td>2019-12-06</td>\n",
              "      <td>37.0</td>\n",
              "      <td>2019-12-06</td>\n",
              "      <td>Secondary</td>\n",
              "      <td>Never</td>\n",
              "      <td>2019-12-06</td>\n",
              "      <td>F</td>\n",
              "      <td>73</td>\n",
              "      <td>Yes</td>\n",
              "      <td>NaT</td>\n",
              "      <td>2019-12-06</td>\n",
              "      <td>NaT</td>\n",
              "      <td>NaT</td>\n",
              "    </tr>\n",
              "    <tr>\n",
              "      <th>115260</th>\n",
              "      <td>115261</td>\n",
              "      <td>2020-12-31</td>\n",
              "      <td>Кокорин, Михаил Иванович</td>\n",
              "      <td>ГП №5 при ГБ5 г.Наб. Челны</td>\n",
              "      <td>1</td>\n",
              "      <td>2018-11-26</td>\n",
              "      <td>5.0</td>\n",
              "      <td>NaN</td>\n",
              "      <td>NaT</td>\n",
              "      <td>5.7</td>\n",
              "      <td>2019-03-25</td>\n",
              "      <td>5.1</td>\n",
              "      <td>2019-03-25</td>\n",
              "      <td>135.0</td>\n",
              "      <td>80.0</td>\n",
              "      <td>2019-09-13</td>\n",
              "      <td>27.0</td>\n",
              "      <td>2019-09-13</td>\n",
              "      <td>Primary</td>\n",
              "      <td>Never</td>\n",
              "      <td>2019-09-13</td>\n",
              "      <td>M</td>\n",
              "      <td>62</td>\n",
              "      <td>Yes</td>\n",
              "      <td>2018-11-26</td>\n",
              "      <td>NaT</td>\n",
              "      <td>NaT</td>\n",
              "      <td>2019-09-13</td>\n",
              "    </tr>\n",
              "    <tr>\n",
              "      <th>115261</th>\n",
              "      <td>115262</td>\n",
              "      <td>2020-12-31</td>\n",
              "      <td>Абзалутдинова, Сания Изаховна</td>\n",
              "      <td>ГП №21 г.Казань</td>\n",
              "      <td>1</td>\n",
              "      <td>2018-11-26</td>\n",
              "      <td>NaN</td>\n",
              "      <td>NaN</td>\n",
              "      <td>NaT</td>\n",
              "      <td>NaN</td>\n",
              "      <td>NaT</td>\n",
              "      <td>NaN</td>\n",
              "      <td>NaT</td>\n",
              "      <td>160.0</td>\n",
              "      <td>100.0</td>\n",
              "      <td>2020-02-20</td>\n",
              "      <td>31.0</td>\n",
              "      <td>2020-02-20</td>\n",
              "      <td>Primary</td>\n",
              "      <td>Never</td>\n",
              "      <td>2020-02-20</td>\n",
              "      <td>F</td>\n",
              "      <td>79</td>\n",
              "      <td>Yes</td>\n",
              "      <td>2018-11-26</td>\n",
              "      <td>NaT</td>\n",
              "      <td>NaT</td>\n",
              "      <td>2020-02-20</td>\n",
              "    </tr>\n",
              "  </tbody>\n",
              "</table>\n",
              "</div>\n",
              "    <div class=\"colab-df-buttons\">\n",
              "\n",
              "  <div class=\"colab-df-container\">\n",
              "    <button class=\"colab-df-convert\" onclick=\"convertToInteractive('df-0c8a255b-7478-4f6b-b632-93d36afa2322')\"\n",
              "            title=\"Convert this dataframe to an interactive table.\"\n",
              "            style=\"display:none;\">\n",
              "\n",
              "  <svg xmlns=\"http://www.w3.org/2000/svg\" height=\"24px\" viewBox=\"0 -960 960 960\">\n",
              "    <path d=\"M120-120v-720h720v720H120Zm60-500h600v-160H180v160Zm220 220h160v-160H400v160Zm0 220h160v-160H400v160ZM180-400h160v-160H180v160Zm440 0h160v-160H620v160ZM180-180h160v-160H180v160Zm440 0h160v-160H620v160Z\"/>\n",
              "  </svg>\n",
              "    </button>\n",
              "\n",
              "  <style>\n",
              "    .colab-df-container {\n",
              "      display:flex;\n",
              "      gap: 12px;\n",
              "    }\n",
              "\n",
              "    .colab-df-convert {\n",
              "      background-color: #E8F0FE;\n",
              "      border: none;\n",
              "      border-radius: 50%;\n",
              "      cursor: pointer;\n",
              "      display: none;\n",
              "      fill: #1967D2;\n",
              "      height: 32px;\n",
              "      padding: 0 0 0 0;\n",
              "      width: 32px;\n",
              "    }\n",
              "\n",
              "    .colab-df-convert:hover {\n",
              "      background-color: #E2EBFA;\n",
              "      box-shadow: 0px 1px 2px rgba(60, 64, 67, 0.3), 0px 1px 3px 1px rgba(60, 64, 67, 0.15);\n",
              "      fill: #174EA6;\n",
              "    }\n",
              "\n",
              "    .colab-df-buttons div {\n",
              "      margin-bottom: 4px;\n",
              "    }\n",
              "\n",
              "    [theme=dark] .colab-df-convert {\n",
              "      background-color: #3B4455;\n",
              "      fill: #D2E3FC;\n",
              "    }\n",
              "\n",
              "    [theme=dark] .colab-df-convert:hover {\n",
              "      background-color: #434B5C;\n",
              "      box-shadow: 0px 1px 3px 1px rgba(0, 0, 0, 0.15);\n",
              "      filter: drop-shadow(0px 1px 2px rgba(0, 0, 0, 0.3));\n",
              "      fill: #FFFFFF;\n",
              "    }\n",
              "  </style>\n",
              "\n",
              "    <script>\n",
              "      const buttonEl =\n",
              "        document.querySelector('#df-0c8a255b-7478-4f6b-b632-93d36afa2322 button.colab-df-convert');\n",
              "      buttonEl.style.display =\n",
              "        google.colab.kernel.accessAllowed ? 'block' : 'none';\n",
              "\n",
              "      async function convertToInteractive(key) {\n",
              "        const element = document.querySelector('#df-0c8a255b-7478-4f6b-b632-93d36afa2322');\n",
              "        const dataTable =\n",
              "          await google.colab.kernel.invokeFunction('convertToInteractive',\n",
              "                                                    [key], {});\n",
              "        if (!dataTable) return;\n",
              "\n",
              "        const docLinkHtml = 'Like what you see? Visit the ' +\n",
              "          '<a target=\"_blank\" href=https://colab.research.google.com/notebooks/data_table.ipynb>data table notebook</a>'\n",
              "          + ' to learn more about interactive tables.';\n",
              "        element.innerHTML = '';\n",
              "        dataTable['output_type'] = 'display_data';\n",
              "        await google.colab.output.renderOutput(dataTable, element);\n",
              "        const docLink = document.createElement('div');\n",
              "        docLink.innerHTML = docLinkHtml;\n",
              "        element.appendChild(docLink);\n",
              "      }\n",
              "    </script>\n",
              "  </div>\n",
              "\n",
              "\n",
              "<div id=\"df-b04148a8-a08d-41a8-86bc-404f9e9eddea\">\n",
              "  <button class=\"colab-df-quickchart\" onclick=\"quickchart('df-b04148a8-a08d-41a8-86bc-404f9e9eddea')\"\n",
              "            title=\"Suggest charts\"\n",
              "            style=\"display:none;\">\n",
              "\n",
              "<svg xmlns=\"http://www.w3.org/2000/svg\" height=\"24px\"viewBox=\"0 0 24 24\"\n",
              "     width=\"24px\">\n",
              "    <g>\n",
              "        <path d=\"M19 3H5c-1.1 0-2 .9-2 2v14c0 1.1.9 2 2 2h14c1.1 0 2-.9 2-2V5c0-1.1-.9-2-2-2zM9 17H7v-7h2v7zm4 0h-2V7h2v10zm4 0h-2v-4h2v4z\"/>\n",
              "    </g>\n",
              "</svg>\n",
              "  </button>\n",
              "\n",
              "<style>\n",
              "  .colab-df-quickchart {\n",
              "      --bg-color: #E8F0FE;\n",
              "      --fill-color: #1967D2;\n",
              "      --hover-bg-color: #E2EBFA;\n",
              "      --hover-fill-color: #174EA6;\n",
              "      --disabled-fill-color: #AAA;\n",
              "      --disabled-bg-color: #DDD;\n",
              "  }\n",
              "\n",
              "  [theme=dark] .colab-df-quickchart {\n",
              "      --bg-color: #3B4455;\n",
              "      --fill-color: #D2E3FC;\n",
              "      --hover-bg-color: #434B5C;\n",
              "      --hover-fill-color: #FFFFFF;\n",
              "      --disabled-bg-color: #3B4455;\n",
              "      --disabled-fill-color: #666;\n",
              "  }\n",
              "\n",
              "  .colab-df-quickchart {\n",
              "    background-color: var(--bg-color);\n",
              "    border: none;\n",
              "    border-radius: 50%;\n",
              "    cursor: pointer;\n",
              "    display: none;\n",
              "    fill: var(--fill-color);\n",
              "    height: 32px;\n",
              "    padding: 0;\n",
              "    width: 32px;\n",
              "  }\n",
              "\n",
              "  .colab-df-quickchart:hover {\n",
              "    background-color: var(--hover-bg-color);\n",
              "    box-shadow: 0 1px 2px rgba(60, 64, 67, 0.3), 0 1px 3px 1px rgba(60, 64, 67, 0.15);\n",
              "    fill: var(--button-hover-fill-color);\n",
              "  }\n",
              "\n",
              "  .colab-df-quickchart-complete:disabled,\n",
              "  .colab-df-quickchart-complete:disabled:hover {\n",
              "    background-color: var(--disabled-bg-color);\n",
              "    fill: var(--disabled-fill-color);\n",
              "    box-shadow: none;\n",
              "  }\n",
              "\n",
              "  .colab-df-spinner {\n",
              "    border: 2px solid var(--fill-color);\n",
              "    border-color: transparent;\n",
              "    border-bottom-color: var(--fill-color);\n",
              "    animation:\n",
              "      spin 1s steps(1) infinite;\n",
              "  }\n",
              "\n",
              "  @keyframes spin {\n",
              "    0% {\n",
              "      border-color: transparent;\n",
              "      border-bottom-color: var(--fill-color);\n",
              "      border-left-color: var(--fill-color);\n",
              "    }\n",
              "    20% {\n",
              "      border-color: transparent;\n",
              "      border-left-color: var(--fill-color);\n",
              "      border-top-color: var(--fill-color);\n",
              "    }\n",
              "    30% {\n",
              "      border-color: transparent;\n",
              "      border-left-color: var(--fill-color);\n",
              "      border-top-color: var(--fill-color);\n",
              "      border-right-color: var(--fill-color);\n",
              "    }\n",
              "    40% {\n",
              "      border-color: transparent;\n",
              "      border-right-color: var(--fill-color);\n",
              "      border-top-color: var(--fill-color);\n",
              "    }\n",
              "    60% {\n",
              "      border-color: transparent;\n",
              "      border-right-color: var(--fill-color);\n",
              "    }\n",
              "    80% {\n",
              "      border-color: transparent;\n",
              "      border-right-color: var(--fill-color);\n",
              "      border-bottom-color: var(--fill-color);\n",
              "    }\n",
              "    90% {\n",
              "      border-color: transparent;\n",
              "      border-bottom-color: var(--fill-color);\n",
              "    }\n",
              "  }\n",
              "</style>\n",
              "\n",
              "  <script>\n",
              "    async function quickchart(key) {\n",
              "      const quickchartButtonEl =\n",
              "        document.querySelector('#' + key + ' button');\n",
              "      quickchartButtonEl.disabled = true;  // To prevent multiple clicks.\n",
              "      quickchartButtonEl.classList.add('colab-df-spinner');\n",
              "      try {\n",
              "        const charts = await google.colab.kernel.invokeFunction(\n",
              "            'suggestCharts', [key], {});\n",
              "      } catch (error) {\n",
              "        console.error('Error during call to suggestCharts:', error);\n",
              "      }\n",
              "      quickchartButtonEl.classList.remove('colab-df-spinner');\n",
              "      quickchartButtonEl.classList.add('colab-df-quickchart-complete');\n",
              "    }\n",
              "    (() => {\n",
              "      let quickchartButtonEl =\n",
              "        document.querySelector('#df-b04148a8-a08d-41a8-86bc-404f9e9eddea button');\n",
              "      quickchartButtonEl.style.display =\n",
              "        google.colab.kernel.accessAllowed ? 'block' : 'none';\n",
              "    })();\n",
              "  </script>\n",
              "</div>\n",
              "    </div>\n",
              "  </div>\n"
            ]
          },
          "metadata": {}
        }
      ]
    },
    {
      "cell_type": "markdown",
      "source": [
        "Набор данных включает в себя различные медицинские показатели, такие как возраст, пол, наличие гипертонии, результаты различных исследований и т.д.\n",
        "\n",
        "Из столбцов можно выделить категории данных, которые можно использовать в экспертной системе:\n",
        "\n",
        "- **Лабораторные исследования (A1):**\n",
        "    - `Glucose Fasting (Уровень глюкозы натощак)`\n",
        "    - `Total Cholesterol (Общий холестерин)`\n",
        "    - `MDRD (Фильтрационная способность почек)`\n",
        "- **Результаты объективного осмотра (A2):**\n",
        "    - `Systolic Blood Pressure (Систолическое артериальное давление)`\n",
        "    - `Diastolic Blood Pressure (Диастолическое артериальное давление)`\n",
        "    - `BMI (Индекс массы тела)`\n",
        "- **Жалобы пациента (A3):**\n",
        "    - В данном наборе данных прямых указаний на жалобы пациента нет, но можно использовать косвенные показатели, такие как `Smoking Status (Статус курения)` и `Age (Возраст)`, по которым можно определить потенциальные заболевания."
      ],
      "metadata": {
        "id": "sW4kHf3JgNGr"
      }
    },
    {
      "cell_type": "markdown",
      "source": [
        "# Предобработка данных"
      ],
      "metadata": {
        "id": "_5_pmSGNpR_0"
      }
    },
    {
      "cell_type": "code",
      "source": [
        "# Удаляем столбцы, которые не будут использоваться в моделях\n",
        "columns_to_use = [\n",
        "    \"Glucose Fasting\",\n",
        "    \"Total Cholesterol\",\n",
        "    \"MDRD\",\n",
        "    \"Systolic Blood Pressure\",\n",
        "    \"Diastolic Blood Pressure\",\n",
        "    \"BMI\",\n",
        "    \"Age\",\n",
        "    \"Patient Gender\",\n",
        "]\n",
        "data_ml = data[columns_to_use]\n"
      ],
      "metadata": {
        "id": "alvbVQ0veLEu"
      },
      "execution_count": null,
      "outputs": []
    },
    {
      "cell_type": "markdown",
      "source": [
        "Обработка пропущенных значений: замена их средними значениями\n"
      ],
      "metadata": {
        "id": "KkG8Vf7wpdc6"
      }
    },
    {
      "cell_type": "code",
      "source": [
        "data_ml.fillna(data_ml.mean(), inplace=True)\n"
      ],
      "metadata": {
        "id": "Nc4YnN1LeLHW"
      },
      "execution_count": null,
      "outputs": []
    },
    {
      "cell_type": "markdown",
      "source": [
        "**Кодирование категориальных переменных**"
      ],
      "metadata": {
        "id": "p66rAnSMpiTm"
      }
    },
    {
      "cell_type": "code",
      "source": [
        "data_ml = pd.get_dummies(data_ml, columns=[\"Patient Gender\"], drop_first=True)\n"
      ],
      "metadata": {
        "id": "WAwYwAUueLKc"
      },
      "execution_count": null,
      "outputs": []
    },
    {
      "cell_type": "markdown",
      "source": [
        "**Создание целевых переменных**"
      ],
      "metadata": {
        "id": "C8x8snzG6XmQ"
      }
    },
    {
      "cell_type": "markdown",
      "source": [
        "\n",
        "\n",
        "1. `Hypertension`: Гипертония\n",
        "    - 1 - если высокое давление\n",
        "        - систолическое АД > 140 или диастолическое АД > 90.\n",
        "    - 0 - в противном случае.\n",
        "2. `Diabetes`: Сахарный диабет\n",
        "    - 1 - если высокий уровень глюкозы;\n",
        "        - уровень глюкозы натощак > 7.0 ммоль/л\n",
        "    - 0 - в противном случае."
      ],
      "metadata": {
        "id": "r-Gjm7fIpoLY"
      }
    },
    {
      "cell_type": "code",
      "source": [
        "# Гипертония\n",
        "data_ml[\"Hypertension\"] = (\n",
        "    (data_ml[\"Systolic Blood Pressure\"] > 140)\n",
        "    | (data_ml[\"Diastolic Blood Pressure\"] > 90)\n",
        ").astype(int)\n",
        "\n",
        "\n",
        "# Сахарный диабет\n",
        "data_ml[\"Diabetes\"] = (data_ml[\"Glucose Fasting\"] > 7.0).astype(int)"
      ],
      "metadata": {
        "id": "DkjrKFZneL3O"
      },
      "execution_count": null,
      "outputs": []
    },
    {
      "cell_type": "code",
      "source": [
        "# Проверка результатов предобработки\n",
        "display_dataframe(data_ml)"
      ],
      "metadata": {
        "colab": {
          "base_uri": "https://localhost:8080/",
          "height": 342
        },
        "id": "pprfENa2q8u0",
        "outputId": "46315c40-ad90-49ea-add1-601a50a4993d"
      },
      "execution_count": null,
      "outputs": [
        {
          "output_type": "display_data",
          "data": {
            "text/plain": [
              "(115262, 10)"
            ]
          },
          "metadata": {}
        },
        {
          "output_type": "display_data",
          "data": {
            "text/plain": [
              "        Glucose Fasting  Total Cholesterol       MDRD  \\\n",
              "0              5.322688           5.000000  80.209738   \n",
              "1              5.000000           5.800000  65.000000   \n",
              "10396          4.700000           4.300000  90.000000   \n",
              "113333         4.500000           6.100000  80.209738   \n",
              "2434           8.000000           7.200000  58.000000   \n",
              "115260         5.700000           5.100000  80.209738   \n",
              "115261         5.322688           5.506643  80.209738   \n",
              "\n",
              "        Systolic Blood Pressure  Diastolic Blood Pressure   BMI  Age  \\\n",
              "0                         130.0                      80.0  25.0   62   \n",
              "1                         130.0                      90.0  28.0   76   \n",
              "10396                     130.0                      90.0  29.0   78   \n",
              "113333                    160.0                     100.0  27.0   72   \n",
              "2434                      130.0                      80.0  28.0   64   \n",
              "115260                    135.0                      80.0  27.0   62   \n",
              "115261                    160.0                     100.0  31.0   79   \n",
              "\n",
              "        Patient Gender_M  Hypertension  Diabetes  \n",
              "0                      1             0         0  \n",
              "1                      0             0         0  \n",
              "10396                  1             0         0  \n",
              "113333                 0             1         0  \n",
              "2434                   0             0         1  \n",
              "115260                 1             0         0  \n",
              "115261                 0             1         0  "
            ],
            "text/html": [
              "\n",
              "  <div id=\"df-eee7af5b-ffd4-4aef-a76c-6bbbca725a46\" class=\"colab-df-container\">\n",
              "    <div>\n",
              "<style scoped>\n",
              "    .dataframe tbody tr th:only-of-type {\n",
              "        vertical-align: middle;\n",
              "    }\n",
              "\n",
              "    .dataframe tbody tr th {\n",
              "        vertical-align: top;\n",
              "    }\n",
              "\n",
              "    .dataframe thead th {\n",
              "        text-align: right;\n",
              "    }\n",
              "</style>\n",
              "<table border=\"1\" class=\"dataframe\">\n",
              "  <thead>\n",
              "    <tr style=\"text-align: right;\">\n",
              "      <th></th>\n",
              "      <th>Glucose Fasting</th>\n",
              "      <th>Total Cholesterol</th>\n",
              "      <th>MDRD</th>\n",
              "      <th>Systolic Blood Pressure</th>\n",
              "      <th>Diastolic Blood Pressure</th>\n",
              "      <th>BMI</th>\n",
              "      <th>Age</th>\n",
              "      <th>Patient Gender_M</th>\n",
              "      <th>Hypertension</th>\n",
              "      <th>Diabetes</th>\n",
              "    </tr>\n",
              "  </thead>\n",
              "  <tbody>\n",
              "    <tr>\n",
              "      <th>0</th>\n",
              "      <td>5.322688</td>\n",
              "      <td>5.000000</td>\n",
              "      <td>80.209738</td>\n",
              "      <td>130.0</td>\n",
              "      <td>80.0</td>\n",
              "      <td>25.0</td>\n",
              "      <td>62</td>\n",
              "      <td>1</td>\n",
              "      <td>0</td>\n",
              "      <td>0</td>\n",
              "    </tr>\n",
              "    <tr>\n",
              "      <th>1</th>\n",
              "      <td>5.000000</td>\n",
              "      <td>5.800000</td>\n",
              "      <td>65.000000</td>\n",
              "      <td>130.0</td>\n",
              "      <td>90.0</td>\n",
              "      <td>28.0</td>\n",
              "      <td>76</td>\n",
              "      <td>0</td>\n",
              "      <td>0</td>\n",
              "      <td>0</td>\n",
              "    </tr>\n",
              "    <tr>\n",
              "      <th>10396</th>\n",
              "      <td>4.700000</td>\n",
              "      <td>4.300000</td>\n",
              "      <td>90.000000</td>\n",
              "      <td>130.0</td>\n",
              "      <td>90.0</td>\n",
              "      <td>29.0</td>\n",
              "      <td>78</td>\n",
              "      <td>1</td>\n",
              "      <td>0</td>\n",
              "      <td>0</td>\n",
              "    </tr>\n",
              "    <tr>\n",
              "      <th>113333</th>\n",
              "      <td>4.500000</td>\n",
              "      <td>6.100000</td>\n",
              "      <td>80.209738</td>\n",
              "      <td>160.0</td>\n",
              "      <td>100.0</td>\n",
              "      <td>27.0</td>\n",
              "      <td>72</td>\n",
              "      <td>0</td>\n",
              "      <td>1</td>\n",
              "      <td>0</td>\n",
              "    </tr>\n",
              "    <tr>\n",
              "      <th>2434</th>\n",
              "      <td>8.000000</td>\n",
              "      <td>7.200000</td>\n",
              "      <td>58.000000</td>\n",
              "      <td>130.0</td>\n",
              "      <td>80.0</td>\n",
              "      <td>28.0</td>\n",
              "      <td>64</td>\n",
              "      <td>0</td>\n",
              "      <td>0</td>\n",
              "      <td>1</td>\n",
              "    </tr>\n",
              "    <tr>\n",
              "      <th>115260</th>\n",
              "      <td>5.700000</td>\n",
              "      <td>5.100000</td>\n",
              "      <td>80.209738</td>\n",
              "      <td>135.0</td>\n",
              "      <td>80.0</td>\n",
              "      <td>27.0</td>\n",
              "      <td>62</td>\n",
              "      <td>1</td>\n",
              "      <td>0</td>\n",
              "      <td>0</td>\n",
              "    </tr>\n",
              "    <tr>\n",
              "      <th>115261</th>\n",
              "      <td>5.322688</td>\n",
              "      <td>5.506643</td>\n",
              "      <td>80.209738</td>\n",
              "      <td>160.0</td>\n",
              "      <td>100.0</td>\n",
              "      <td>31.0</td>\n",
              "      <td>79</td>\n",
              "      <td>0</td>\n",
              "      <td>1</td>\n",
              "      <td>0</td>\n",
              "    </tr>\n",
              "  </tbody>\n",
              "</table>\n",
              "</div>\n",
              "    <div class=\"colab-df-buttons\">\n",
              "\n",
              "  <div class=\"colab-df-container\">\n",
              "    <button class=\"colab-df-convert\" onclick=\"convertToInteractive('df-eee7af5b-ffd4-4aef-a76c-6bbbca725a46')\"\n",
              "            title=\"Convert this dataframe to an interactive table.\"\n",
              "            style=\"display:none;\">\n",
              "\n",
              "  <svg xmlns=\"http://www.w3.org/2000/svg\" height=\"24px\" viewBox=\"0 -960 960 960\">\n",
              "    <path d=\"M120-120v-720h720v720H120Zm60-500h600v-160H180v160Zm220 220h160v-160H400v160Zm0 220h160v-160H400v160ZM180-400h160v-160H180v160Zm440 0h160v-160H620v160ZM180-180h160v-160H180v160Zm440 0h160v-160H620v160Z\"/>\n",
              "  </svg>\n",
              "    </button>\n",
              "\n",
              "  <style>\n",
              "    .colab-df-container {\n",
              "      display:flex;\n",
              "      gap: 12px;\n",
              "    }\n",
              "\n",
              "    .colab-df-convert {\n",
              "      background-color: #E8F0FE;\n",
              "      border: none;\n",
              "      border-radius: 50%;\n",
              "      cursor: pointer;\n",
              "      display: none;\n",
              "      fill: #1967D2;\n",
              "      height: 32px;\n",
              "      padding: 0 0 0 0;\n",
              "      width: 32px;\n",
              "    }\n",
              "\n",
              "    .colab-df-convert:hover {\n",
              "      background-color: #E2EBFA;\n",
              "      box-shadow: 0px 1px 2px rgba(60, 64, 67, 0.3), 0px 1px 3px 1px rgba(60, 64, 67, 0.15);\n",
              "      fill: #174EA6;\n",
              "    }\n",
              "\n",
              "    .colab-df-buttons div {\n",
              "      margin-bottom: 4px;\n",
              "    }\n",
              "\n",
              "    [theme=dark] .colab-df-convert {\n",
              "      background-color: #3B4455;\n",
              "      fill: #D2E3FC;\n",
              "    }\n",
              "\n",
              "    [theme=dark] .colab-df-convert:hover {\n",
              "      background-color: #434B5C;\n",
              "      box-shadow: 0px 1px 3px 1px rgba(0, 0, 0, 0.15);\n",
              "      filter: drop-shadow(0px 1px 2px rgba(0, 0, 0, 0.3));\n",
              "      fill: #FFFFFF;\n",
              "    }\n",
              "  </style>\n",
              "\n",
              "    <script>\n",
              "      const buttonEl =\n",
              "        document.querySelector('#df-eee7af5b-ffd4-4aef-a76c-6bbbca725a46 button.colab-df-convert');\n",
              "      buttonEl.style.display =\n",
              "        google.colab.kernel.accessAllowed ? 'block' : 'none';\n",
              "\n",
              "      async function convertToInteractive(key) {\n",
              "        const element = document.querySelector('#df-eee7af5b-ffd4-4aef-a76c-6bbbca725a46');\n",
              "        const dataTable =\n",
              "          await google.colab.kernel.invokeFunction('convertToInteractive',\n",
              "                                                    [key], {});\n",
              "        if (!dataTable) return;\n",
              "\n",
              "        const docLinkHtml = 'Like what you see? Visit the ' +\n",
              "          '<a target=\"_blank\" href=https://colab.research.google.com/notebooks/data_table.ipynb>data table notebook</a>'\n",
              "          + ' to learn more about interactive tables.';\n",
              "        element.innerHTML = '';\n",
              "        dataTable['output_type'] = 'display_data';\n",
              "        await google.colab.output.renderOutput(dataTable, element);\n",
              "        const docLink = document.createElement('div');\n",
              "        docLink.innerHTML = docLinkHtml;\n",
              "        element.appendChild(docLink);\n",
              "      }\n",
              "    </script>\n",
              "  </div>\n",
              "\n",
              "\n",
              "<div id=\"df-50f2ccad-0c6a-4b34-92ee-757332a98d13\">\n",
              "  <button class=\"colab-df-quickchart\" onclick=\"quickchart('df-50f2ccad-0c6a-4b34-92ee-757332a98d13')\"\n",
              "            title=\"Suggest charts\"\n",
              "            style=\"display:none;\">\n",
              "\n",
              "<svg xmlns=\"http://www.w3.org/2000/svg\" height=\"24px\"viewBox=\"0 0 24 24\"\n",
              "     width=\"24px\">\n",
              "    <g>\n",
              "        <path d=\"M19 3H5c-1.1 0-2 .9-2 2v14c0 1.1.9 2 2 2h14c1.1 0 2-.9 2-2V5c0-1.1-.9-2-2-2zM9 17H7v-7h2v7zm4 0h-2V7h2v10zm4 0h-2v-4h2v4z\"/>\n",
              "    </g>\n",
              "</svg>\n",
              "  </button>\n",
              "\n",
              "<style>\n",
              "  .colab-df-quickchart {\n",
              "      --bg-color: #E8F0FE;\n",
              "      --fill-color: #1967D2;\n",
              "      --hover-bg-color: #E2EBFA;\n",
              "      --hover-fill-color: #174EA6;\n",
              "      --disabled-fill-color: #AAA;\n",
              "      --disabled-bg-color: #DDD;\n",
              "  }\n",
              "\n",
              "  [theme=dark] .colab-df-quickchart {\n",
              "      --bg-color: #3B4455;\n",
              "      --fill-color: #D2E3FC;\n",
              "      --hover-bg-color: #434B5C;\n",
              "      --hover-fill-color: #FFFFFF;\n",
              "      --disabled-bg-color: #3B4455;\n",
              "      --disabled-fill-color: #666;\n",
              "  }\n",
              "\n",
              "  .colab-df-quickchart {\n",
              "    background-color: var(--bg-color);\n",
              "    border: none;\n",
              "    border-radius: 50%;\n",
              "    cursor: pointer;\n",
              "    display: none;\n",
              "    fill: var(--fill-color);\n",
              "    height: 32px;\n",
              "    padding: 0;\n",
              "    width: 32px;\n",
              "  }\n",
              "\n",
              "  .colab-df-quickchart:hover {\n",
              "    background-color: var(--hover-bg-color);\n",
              "    box-shadow: 0 1px 2px rgba(60, 64, 67, 0.3), 0 1px 3px 1px rgba(60, 64, 67, 0.15);\n",
              "    fill: var(--button-hover-fill-color);\n",
              "  }\n",
              "\n",
              "  .colab-df-quickchart-complete:disabled,\n",
              "  .colab-df-quickchart-complete:disabled:hover {\n",
              "    background-color: var(--disabled-bg-color);\n",
              "    fill: var(--disabled-fill-color);\n",
              "    box-shadow: none;\n",
              "  }\n",
              "\n",
              "  .colab-df-spinner {\n",
              "    border: 2px solid var(--fill-color);\n",
              "    border-color: transparent;\n",
              "    border-bottom-color: var(--fill-color);\n",
              "    animation:\n",
              "      spin 1s steps(1) infinite;\n",
              "  }\n",
              "\n",
              "  @keyframes spin {\n",
              "    0% {\n",
              "      border-color: transparent;\n",
              "      border-bottom-color: var(--fill-color);\n",
              "      border-left-color: var(--fill-color);\n",
              "    }\n",
              "    20% {\n",
              "      border-color: transparent;\n",
              "      border-left-color: var(--fill-color);\n",
              "      border-top-color: var(--fill-color);\n",
              "    }\n",
              "    30% {\n",
              "      border-color: transparent;\n",
              "      border-left-color: var(--fill-color);\n",
              "      border-top-color: var(--fill-color);\n",
              "      border-right-color: var(--fill-color);\n",
              "    }\n",
              "    40% {\n",
              "      border-color: transparent;\n",
              "      border-right-color: var(--fill-color);\n",
              "      border-top-color: var(--fill-color);\n",
              "    }\n",
              "    60% {\n",
              "      border-color: transparent;\n",
              "      border-right-color: var(--fill-color);\n",
              "    }\n",
              "    80% {\n",
              "      border-color: transparent;\n",
              "      border-right-color: var(--fill-color);\n",
              "      border-bottom-color: var(--fill-color);\n",
              "    }\n",
              "    90% {\n",
              "      border-color: transparent;\n",
              "      border-bottom-color: var(--fill-color);\n",
              "    }\n",
              "  }\n",
              "</style>\n",
              "\n",
              "  <script>\n",
              "    async function quickchart(key) {\n",
              "      const quickchartButtonEl =\n",
              "        document.querySelector('#' + key + ' button');\n",
              "      quickchartButtonEl.disabled = true;  // To prevent multiple clicks.\n",
              "      quickchartButtonEl.classList.add('colab-df-spinner');\n",
              "      try {\n",
              "        const charts = await google.colab.kernel.invokeFunction(\n",
              "            'suggestCharts', [key], {});\n",
              "      } catch (error) {\n",
              "        console.error('Error during call to suggestCharts:', error);\n",
              "      }\n",
              "      quickchartButtonEl.classList.remove('colab-df-spinner');\n",
              "      quickchartButtonEl.classList.add('colab-df-quickchart-complete');\n",
              "    }\n",
              "    (() => {\n",
              "      let quickchartButtonEl =\n",
              "        document.querySelector('#df-50f2ccad-0c6a-4b34-92ee-757332a98d13 button');\n",
              "      quickchartButtonEl.style.display =\n",
              "        google.colab.kernel.accessAllowed ? 'block' : 'none';\n",
              "    })();\n",
              "  </script>\n",
              "</div>\n",
              "    </div>\n",
              "  </div>\n"
            ]
          },
          "metadata": {}
        }
      ]
    },
    {
      "cell_type": "markdown",
      "source": [
        "Нормализация признаков"
      ],
      "metadata": {
        "id": "NjRGoTwEx3r2"
      }
    },
    {
      "cell_type": "code",
      "source": [
        "feature_columns = list(data_ml.drop(columns=[\"Hypertension\", \"Diabetes\"]).columns)"
      ],
      "metadata": {
        "id": "ReBPTgIBxTWI"
      },
      "execution_count": null,
      "outputs": []
    },
    {
      "cell_type": "code",
      "source": [
        "feature_columns"
      ],
      "metadata": {
        "colab": {
          "base_uri": "https://localhost:8080/"
        },
        "id": "tEfNOFjzxv0E",
        "outputId": "0eb9a44e-4680-4c24-ecf5-5f44ecae2b71"
      },
      "execution_count": null,
      "outputs": [
        {
          "output_type": "execute_result",
          "data": {
            "text/plain": [
              "['Glucose Fasting',\n",
              " 'Total Cholesterol',\n",
              " 'MDRD',\n",
              " 'Systolic Blood Pressure',\n",
              " 'Diastolic Blood Pressure',\n",
              " 'BMI',\n",
              " 'Age',\n",
              " 'Patient Gender_M']"
            ]
          },
          "metadata": {},
          "execution_count": 13
        }
      ]
    },
    {
      "cell_type": "code",
      "source": [
        "ct = ColumnTransformer(\n",
        "    [(\"StandardScaler\", StandardScaler(), feature_columns)],\n",
        "    remainder=\"passthrough\",\n",
        ")\n",
        "\n",
        "data_ml[feature_columns] = ct.fit_transform(data_ml[feature_columns])\n"
      ],
      "metadata": {
        "id": "2SIMr4m4xHRf"
      },
      "execution_count": null,
      "outputs": []
    },
    {
      "cell_type": "markdown",
      "source": [
        "**Разделение данных на обучающую и тестовую выборки**"
      ],
      "metadata": {
        "id": "VfXNuENfqnnb"
      }
    },
    {
      "cell_type": "code",
      "source": [
        "TEST_SIZE = 0.25\n",
        "RANDOM_STATE = 42"
      ],
      "metadata": {
        "id": "qG-0wPMGrXl3"
      },
      "execution_count": null,
      "outputs": []
    },
    {
      "cell_type": "code",
      "source": [
        "from sklearn.model_selection import train_test_split\n",
        "from sklearn.neighbors import KNeighborsClassifier\n",
        "from sklearn.tree import DecisionTreeClassifier\n",
        "from sklearn.metrics import accuracy_score\n",
        "\n",
        "# Определение признаков и целевых переменных\n",
        "X_hypertension = data_ml.drop(\n",
        "    columns=[\n",
        "        \"Hypertension\",\n",
        "        \"Diabetes\",\n",
        "        \"Systolic Blood Pressure\",\n",
        "        \"Diastolic Blood Pressure\",\n",
        "    ]\n",
        ")\n",
        "y_hypertension = data_ml[\"Hypertension\"]\n",
        "\n",
        "X_diabetes = data_ml.drop(columns=[\"Hypertension\", \"Diabetes\", \"Glucose Fasting\"])\n",
        "y_diabetes = data_ml[\"Diabetes\"]\n"
      ],
      "metadata": {
        "id": "mj-TYG4heL6W"
      },
      "execution_count": null,
      "outputs": []
    },
    {
      "cell_type": "code",
      "source": [
        "# Разделение данных на обучающую и тестовую выборки для каждого диагноза\n",
        "X_train_h, X_test_h, y_train_h, y_test_h = train_test_split(\n",
        "    X_hypertension, y_hypertension, test_size=TEST_SIZE, random_state=RANDOM_STATE\n",
        ")\n",
        "X_train_d, X_test_d, y_train_d, y_test_d = train_test_split(\n",
        "    X_diabetes, y_diabetes, test_size=TEST_SIZE, random_state=RANDOM_STATE\n",
        ")\n"
      ],
      "metadata": {
        "id": "-ElA-8Ttsu1j"
      },
      "execution_count": null,
      "outputs": []
    },
    {
      "cell_type": "code",
      "source": [
        "print(\"Признаки для гипертензии\", list(X_train_h.columns))\n",
        "print(\"Признаки для диабета\", list(X_train_d.columns))"
      ],
      "metadata": {
        "colab": {
          "base_uri": "https://localhost:8080/"
        },
        "id": "LdehXjhZ5s4X",
        "outputId": "d2a8305c-7a2a-499c-953e-3615edc6a5ce"
      },
      "execution_count": null,
      "outputs": [
        {
          "output_type": "stream",
          "name": "stdout",
          "text": [
            "Признаки для гипертензии ['Glucose Fasting', 'Total Cholesterol', 'MDRD', 'BMI', 'Age', 'Patient Gender_M']\n",
            "Признаки для диабета ['Total Cholesterol', 'MDRD', 'Systolic Blood Pressure', 'Diastolic Blood Pressure', 'BMI', 'Age', 'Patient Gender_M']\n"
          ]
        }
      ]
    },
    {
      "cell_type": "markdown",
      "source": [
        "Обучим модели KNeighborsClassifier и DecisionTreeClassifier. Эти модели будут предсказывать вероятности наличия гипертонии и сахарного диабета на основе введенных пользователем данных"
      ],
      "metadata": {
        "id": "iZ-DPuK56jDV"
      }
    },
    {
      "cell_type": "markdown",
      "source": [
        "# Обучение моделей для гипертонии"
      ],
      "metadata": {
        "id": "5DrG05DTrwgY"
      }
    },
    {
      "cell_type": "markdown",
      "source": [
        "GridSearchCV для настройки гиперпараметров"
      ],
      "metadata": {
        "id": "cB75jlcWtFGD"
      }
    },
    {
      "cell_type": "code",
      "source": [
        "# Начнем с KNeighborsClassifier\n",
        "params_knn = {\n",
        "    \"n_neighbors\": [3, 5, 7, 9, 11, 13],\n",
        "    \"weights\": [\"uniform\", \"distance\"],\n",
        "    \"metric\": [\"euclidean\", \"manhattan\"],\n",
        "}\n",
        "clf_knn_h = GridSearchCV(KNeighborsClassifier(), params_knn)\n",
        "clf_knn_h.fit(X_train_h, y_train_h)\n"
      ],
      "metadata": {
        "colab": {
          "base_uri": "https://localhost:8080/",
          "height": 115
        },
        "id": "s8PHPMf2str5",
        "outputId": "35b528e0-8209-4367-bd7b-34b9acc3c398"
      },
      "execution_count": null,
      "outputs": [
        {
          "output_type": "execute_result",
          "data": {
            "text/plain": [
              "GridSearchCV(estimator=KNeighborsClassifier(),\n",
              "             param_grid={'metric': ['euclidean', 'manhattan'],\n",
              "                         'n_neighbors': [3, 5, 7, 9, 11, 13],\n",
              "                         'weights': ['uniform', 'distance']})"
            ],
            "text/html": [
              "<style>#sk-container-id-1 {color: black;background-color: white;}#sk-container-id-1 pre{padding: 0;}#sk-container-id-1 div.sk-toggleable {background-color: white;}#sk-container-id-1 label.sk-toggleable__label {cursor: pointer;display: block;width: 100%;margin-bottom: 0;padding: 0.3em;box-sizing: border-box;text-align: center;}#sk-container-id-1 label.sk-toggleable__label-arrow:before {content: \"▸\";float: left;margin-right: 0.25em;color: #696969;}#sk-container-id-1 label.sk-toggleable__label-arrow:hover:before {color: black;}#sk-container-id-1 div.sk-estimator:hover label.sk-toggleable__label-arrow:before {color: black;}#sk-container-id-1 div.sk-toggleable__content {max-height: 0;max-width: 0;overflow: hidden;text-align: left;background-color: #f0f8ff;}#sk-container-id-1 div.sk-toggleable__content pre {margin: 0.2em;color: black;border-radius: 0.25em;background-color: #f0f8ff;}#sk-container-id-1 input.sk-toggleable__control:checked~div.sk-toggleable__content {max-height: 200px;max-width: 100%;overflow: auto;}#sk-container-id-1 input.sk-toggleable__control:checked~label.sk-toggleable__label-arrow:before {content: \"▾\";}#sk-container-id-1 div.sk-estimator input.sk-toggleable__control:checked~label.sk-toggleable__label {background-color: #d4ebff;}#sk-container-id-1 div.sk-label input.sk-toggleable__control:checked~label.sk-toggleable__label {background-color: #d4ebff;}#sk-container-id-1 input.sk-hidden--visually {border: 0;clip: rect(1px 1px 1px 1px);clip: rect(1px, 1px, 1px, 1px);height: 1px;margin: -1px;overflow: hidden;padding: 0;position: absolute;width: 1px;}#sk-container-id-1 div.sk-estimator {font-family: monospace;background-color: #f0f8ff;border: 1px dotted black;border-radius: 0.25em;box-sizing: border-box;margin-bottom: 0.5em;}#sk-container-id-1 div.sk-estimator:hover {background-color: #d4ebff;}#sk-container-id-1 div.sk-parallel-item::after {content: \"\";width: 100%;border-bottom: 1px solid gray;flex-grow: 1;}#sk-container-id-1 div.sk-label:hover label.sk-toggleable__label {background-color: #d4ebff;}#sk-container-id-1 div.sk-serial::before {content: \"\";position: absolute;border-left: 1px solid gray;box-sizing: border-box;top: 0;bottom: 0;left: 50%;z-index: 0;}#sk-container-id-1 div.sk-serial {display: flex;flex-direction: column;align-items: center;background-color: white;padding-right: 0.2em;padding-left: 0.2em;position: relative;}#sk-container-id-1 div.sk-item {position: relative;z-index: 1;}#sk-container-id-1 div.sk-parallel {display: flex;align-items: stretch;justify-content: center;background-color: white;position: relative;}#sk-container-id-1 div.sk-item::before, #sk-container-id-1 div.sk-parallel-item::before {content: \"\";position: absolute;border-left: 1px solid gray;box-sizing: border-box;top: 0;bottom: 0;left: 50%;z-index: -1;}#sk-container-id-1 div.sk-parallel-item {display: flex;flex-direction: column;z-index: 1;position: relative;background-color: white;}#sk-container-id-1 div.sk-parallel-item:first-child::after {align-self: flex-end;width: 50%;}#sk-container-id-1 div.sk-parallel-item:last-child::after {align-self: flex-start;width: 50%;}#sk-container-id-1 div.sk-parallel-item:only-child::after {width: 0;}#sk-container-id-1 div.sk-dashed-wrapped {border: 1px dashed gray;margin: 0 0.4em 0.5em 0.4em;box-sizing: border-box;padding-bottom: 0.4em;background-color: white;}#sk-container-id-1 div.sk-label label {font-family: monospace;font-weight: bold;display: inline-block;line-height: 1.2em;}#sk-container-id-1 div.sk-label-container {text-align: center;}#sk-container-id-1 div.sk-container {/* jupyter's `normalize.less` sets `[hidden] { display: none; }` but bootstrap.min.css set `[hidden] { display: none !important; }` so we also need the `!important` here to be able to override the default hidden behavior on the sphinx rendered scikit-learn.org. See: https://github.com/scikit-learn/scikit-learn/issues/21755 */display: inline-block !important;position: relative;}#sk-container-id-1 div.sk-text-repr-fallback {display: none;}</style><div id=\"sk-container-id-1\" class=\"sk-top-container\"><div class=\"sk-text-repr-fallback\"><pre>GridSearchCV(estimator=KNeighborsClassifier(),\n",
              "             param_grid={&#x27;metric&#x27;: [&#x27;euclidean&#x27;, &#x27;manhattan&#x27;],\n",
              "                         &#x27;n_neighbors&#x27;: [3, 5, 7, 9, 11, 13],\n",
              "                         &#x27;weights&#x27;: [&#x27;uniform&#x27;, &#x27;distance&#x27;]})</pre><b>In a Jupyter environment, please rerun this cell to show the HTML representation or trust the notebook. <br />On GitHub, the HTML representation is unable to render, please try loading this page with nbviewer.org.</b></div><div class=\"sk-container\" hidden><div class=\"sk-item sk-dashed-wrapped\"><div class=\"sk-label-container\"><div class=\"sk-label sk-toggleable\"><input class=\"sk-toggleable__control sk-hidden--visually\" id=\"sk-estimator-id-1\" type=\"checkbox\" ><label for=\"sk-estimator-id-1\" class=\"sk-toggleable__label sk-toggleable__label-arrow\">GridSearchCV</label><div class=\"sk-toggleable__content\"><pre>GridSearchCV(estimator=KNeighborsClassifier(),\n",
              "             param_grid={&#x27;metric&#x27;: [&#x27;euclidean&#x27;, &#x27;manhattan&#x27;],\n",
              "                         &#x27;n_neighbors&#x27;: [3, 5, 7, 9, 11, 13],\n",
              "                         &#x27;weights&#x27;: [&#x27;uniform&#x27;, &#x27;distance&#x27;]})</pre></div></div></div><div class=\"sk-parallel\"><div class=\"sk-parallel-item\"><div class=\"sk-item\"><div class=\"sk-label-container\"><div class=\"sk-label sk-toggleable\"><input class=\"sk-toggleable__control sk-hidden--visually\" id=\"sk-estimator-id-2\" type=\"checkbox\" ><label for=\"sk-estimator-id-2\" class=\"sk-toggleable__label sk-toggleable__label-arrow\">estimator: KNeighborsClassifier</label><div class=\"sk-toggleable__content\"><pre>KNeighborsClassifier()</pre></div></div></div><div class=\"sk-serial\"><div class=\"sk-item\"><div class=\"sk-estimator sk-toggleable\"><input class=\"sk-toggleable__control sk-hidden--visually\" id=\"sk-estimator-id-3\" type=\"checkbox\" ><label for=\"sk-estimator-id-3\" class=\"sk-toggleable__label sk-toggleable__label-arrow\">KNeighborsClassifier</label><div class=\"sk-toggleable__content\"><pre>KNeighborsClassifier()</pre></div></div></div></div></div></div></div></div></div></div>"
            ]
          },
          "metadata": {},
          "execution_count": 19
        }
      ]
    },
    {
      "cell_type": "code",
      "source": [
        "print(\n",
        "    \"Лучшие параметры для KNeighborsClassifier (гипертония):\",\n",
        "    clf_knn_h.best_params_\n",
        ")\n",
        "print(\n",
        "    \"Точность KNeighborsClassifier (гипертония):\",\n",
        "    accuracy_score(y_test_h, clf_knn_h.predict(X_test_h)),\n",
        ")"
      ],
      "metadata": {
        "colab": {
          "base_uri": "https://localhost:8080/"
        },
        "id": "NHrJl6kDtLoj",
        "outputId": "b7570c18-2d76-40e5-ddd0-05b3aa64c3ae"
      },
      "execution_count": null,
      "outputs": [
        {
          "output_type": "stream",
          "name": "stdout",
          "text": [
            "Лучшие параметры для KNeighborsClassifier (гипертония): {'metric': 'manhattan', 'n_neighbors': 13, 'weights': 'uniform'}\n",
            "Точность KNeighborsClassifier (гипертония): 0.7020405330372016\n"
          ]
        }
      ]
    },
    {
      "cell_type": "code",
      "source": [
        "# Затем DecisionTreeClassifier\n",
        "params_dtc = {\n",
        "    \"criterion\": [\"gini\", \"entropy\"],\n",
        "    \"max_depth\": [4, 5, 6, 7, 8, 9, 10, 11, 12, 15, 20, 30, 40, 50, 70, 90, 120, 150],\n",
        "}\n",
        "clf_dtc_h = GridSearchCV(DecisionTreeClassifier(), params_dtc)\n",
        "clf_dtc_h.fit(X_train_h, y_train_h)"
      ],
      "metadata": {
        "colab": {
          "base_uri": "https://localhost:8080/",
          "height": 115
        },
        "id": "wgu-717CsuEl",
        "outputId": "84fd54c2-180f-4be5-f4f7-7c5b96913ae5"
      },
      "execution_count": null,
      "outputs": [
        {
          "output_type": "execute_result",
          "data": {
            "text/plain": [
              "GridSearchCV(estimator=DecisionTreeClassifier(),\n",
              "             param_grid={'criterion': ['gini', 'entropy'],\n",
              "                         'max_depth': [4, 5, 6, 7, 8, 9, 10, 11, 12, 15, 20, 30,\n",
              "                                       40, 50, 70, 90, 120, 150]})"
            ],
            "text/html": [
              "<style>#sk-container-id-2 {color: black;background-color: white;}#sk-container-id-2 pre{padding: 0;}#sk-container-id-2 div.sk-toggleable {background-color: white;}#sk-container-id-2 label.sk-toggleable__label {cursor: pointer;display: block;width: 100%;margin-bottom: 0;padding: 0.3em;box-sizing: border-box;text-align: center;}#sk-container-id-2 label.sk-toggleable__label-arrow:before {content: \"▸\";float: left;margin-right: 0.25em;color: #696969;}#sk-container-id-2 label.sk-toggleable__label-arrow:hover:before {color: black;}#sk-container-id-2 div.sk-estimator:hover label.sk-toggleable__label-arrow:before {color: black;}#sk-container-id-2 div.sk-toggleable__content {max-height: 0;max-width: 0;overflow: hidden;text-align: left;background-color: #f0f8ff;}#sk-container-id-2 div.sk-toggleable__content pre {margin: 0.2em;color: black;border-radius: 0.25em;background-color: #f0f8ff;}#sk-container-id-2 input.sk-toggleable__control:checked~div.sk-toggleable__content {max-height: 200px;max-width: 100%;overflow: auto;}#sk-container-id-2 input.sk-toggleable__control:checked~label.sk-toggleable__label-arrow:before {content: \"▾\";}#sk-container-id-2 div.sk-estimator input.sk-toggleable__control:checked~label.sk-toggleable__label {background-color: #d4ebff;}#sk-container-id-2 div.sk-label input.sk-toggleable__control:checked~label.sk-toggleable__label {background-color: #d4ebff;}#sk-container-id-2 input.sk-hidden--visually {border: 0;clip: rect(1px 1px 1px 1px);clip: rect(1px, 1px, 1px, 1px);height: 1px;margin: -1px;overflow: hidden;padding: 0;position: absolute;width: 1px;}#sk-container-id-2 div.sk-estimator {font-family: monospace;background-color: #f0f8ff;border: 1px dotted black;border-radius: 0.25em;box-sizing: border-box;margin-bottom: 0.5em;}#sk-container-id-2 div.sk-estimator:hover {background-color: #d4ebff;}#sk-container-id-2 div.sk-parallel-item::after {content: \"\";width: 100%;border-bottom: 1px solid gray;flex-grow: 1;}#sk-container-id-2 div.sk-label:hover label.sk-toggleable__label {background-color: #d4ebff;}#sk-container-id-2 div.sk-serial::before {content: \"\";position: absolute;border-left: 1px solid gray;box-sizing: border-box;top: 0;bottom: 0;left: 50%;z-index: 0;}#sk-container-id-2 div.sk-serial {display: flex;flex-direction: column;align-items: center;background-color: white;padding-right: 0.2em;padding-left: 0.2em;position: relative;}#sk-container-id-2 div.sk-item {position: relative;z-index: 1;}#sk-container-id-2 div.sk-parallel {display: flex;align-items: stretch;justify-content: center;background-color: white;position: relative;}#sk-container-id-2 div.sk-item::before, #sk-container-id-2 div.sk-parallel-item::before {content: \"\";position: absolute;border-left: 1px solid gray;box-sizing: border-box;top: 0;bottom: 0;left: 50%;z-index: -1;}#sk-container-id-2 div.sk-parallel-item {display: flex;flex-direction: column;z-index: 1;position: relative;background-color: white;}#sk-container-id-2 div.sk-parallel-item:first-child::after {align-self: flex-end;width: 50%;}#sk-container-id-2 div.sk-parallel-item:last-child::after {align-self: flex-start;width: 50%;}#sk-container-id-2 div.sk-parallel-item:only-child::after {width: 0;}#sk-container-id-2 div.sk-dashed-wrapped {border: 1px dashed gray;margin: 0 0.4em 0.5em 0.4em;box-sizing: border-box;padding-bottom: 0.4em;background-color: white;}#sk-container-id-2 div.sk-label label {font-family: monospace;font-weight: bold;display: inline-block;line-height: 1.2em;}#sk-container-id-2 div.sk-label-container {text-align: center;}#sk-container-id-2 div.sk-container {/* jupyter's `normalize.less` sets `[hidden] { display: none; }` but bootstrap.min.css set `[hidden] { display: none !important; }` so we also need the `!important` here to be able to override the default hidden behavior on the sphinx rendered scikit-learn.org. See: https://github.com/scikit-learn/scikit-learn/issues/21755 */display: inline-block !important;position: relative;}#sk-container-id-2 div.sk-text-repr-fallback {display: none;}</style><div id=\"sk-container-id-2\" class=\"sk-top-container\"><div class=\"sk-text-repr-fallback\"><pre>GridSearchCV(estimator=DecisionTreeClassifier(),\n",
              "             param_grid={&#x27;criterion&#x27;: [&#x27;gini&#x27;, &#x27;entropy&#x27;],\n",
              "                         &#x27;max_depth&#x27;: [4, 5, 6, 7, 8, 9, 10, 11, 12, 15, 20, 30,\n",
              "                                       40, 50, 70, 90, 120, 150]})</pre><b>In a Jupyter environment, please rerun this cell to show the HTML representation or trust the notebook. <br />On GitHub, the HTML representation is unable to render, please try loading this page with nbviewer.org.</b></div><div class=\"sk-container\" hidden><div class=\"sk-item sk-dashed-wrapped\"><div class=\"sk-label-container\"><div class=\"sk-label sk-toggleable\"><input class=\"sk-toggleable__control sk-hidden--visually\" id=\"sk-estimator-id-4\" type=\"checkbox\" ><label for=\"sk-estimator-id-4\" class=\"sk-toggleable__label sk-toggleable__label-arrow\">GridSearchCV</label><div class=\"sk-toggleable__content\"><pre>GridSearchCV(estimator=DecisionTreeClassifier(),\n",
              "             param_grid={&#x27;criterion&#x27;: [&#x27;gini&#x27;, &#x27;entropy&#x27;],\n",
              "                         &#x27;max_depth&#x27;: [4, 5, 6, 7, 8, 9, 10, 11, 12, 15, 20, 30,\n",
              "                                       40, 50, 70, 90, 120, 150]})</pre></div></div></div><div class=\"sk-parallel\"><div class=\"sk-parallel-item\"><div class=\"sk-item\"><div class=\"sk-label-container\"><div class=\"sk-label sk-toggleable\"><input class=\"sk-toggleable__control sk-hidden--visually\" id=\"sk-estimator-id-5\" type=\"checkbox\" ><label for=\"sk-estimator-id-5\" class=\"sk-toggleable__label sk-toggleable__label-arrow\">estimator: DecisionTreeClassifier</label><div class=\"sk-toggleable__content\"><pre>DecisionTreeClassifier()</pre></div></div></div><div class=\"sk-serial\"><div class=\"sk-item\"><div class=\"sk-estimator sk-toggleable\"><input class=\"sk-toggleable__control sk-hidden--visually\" id=\"sk-estimator-id-6\" type=\"checkbox\" ><label for=\"sk-estimator-id-6\" class=\"sk-toggleable__label sk-toggleable__label-arrow\">DecisionTreeClassifier</label><div class=\"sk-toggleable__content\"><pre>DecisionTreeClassifier()</pre></div></div></div></div></div></div></div></div></div></div>"
            ]
          },
          "metadata": {},
          "execution_count": 21
        }
      ]
    },
    {
      "cell_type": "code",
      "source": [
        "print(\n",
        "    \"Лучшие параметры для DecisionTreeClassifier (гипертония):\",\n",
        "    clf_dtc_h.best_params_\n",
        ")\n",
        "print(\n",
        "    \"Точность DecisionTreeClassifier (гипертония):\",\n",
        "    accuracy_score(y_test_h, clf_dtc_h.predict(X_test_h)),\n",
        ")\n"
      ],
      "metadata": {
        "colab": {
          "base_uri": "https://localhost:8080/"
        },
        "id": "ADey1YQOsuGq",
        "outputId": "a260119a-a02f-49e4-ddfa-a33f962fcdf0"
      },
      "execution_count": null,
      "outputs": [
        {
          "output_type": "stream",
          "name": "stdout",
          "text": [
            "Лучшие параметры для DecisionTreeClassifier (гипертония): {'criterion': 'gini', 'max_depth': 4}\n",
            "Точность DecisionTreeClassifier (гипертония): 0.7198431426985008\n"
          ]
        }
      ]
    },
    {
      "cell_type": "code",
      "source": [
        "best_hypertension_clf = clf_dtc_h"
      ],
      "metadata": {
        "id": "_0bjdymK2L2L"
      },
      "execution_count": null,
      "outputs": []
    },
    {
      "cell_type": "markdown",
      "source": [
        "# Обучение моделей для сахарного диабета\n"
      ],
      "metadata": {
        "id": "a8ah4Nwhryzp"
      }
    },
    {
      "cell_type": "code",
      "execution_count": null,
      "metadata": {
        "id": "fqkTh56pjK6z",
        "colab": {
          "base_uri": "https://localhost:8080/",
          "height": 115
        },
        "outputId": "913d106a-5d5d-4afa-edd8-893e3d32ac91"
      },
      "outputs": [
        {
          "output_type": "execute_result",
          "data": {
            "text/plain": [
              "GridSearchCV(estimator=KNeighborsClassifier(),\n",
              "             param_grid={'metric': ['euclidean', 'manhattan'],\n",
              "                         'n_neighbors': [3, 5, 7, 9, 11, 13],\n",
              "                         'weights': ['uniform', 'distance']})"
            ],
            "text/html": [
              "<style>#sk-container-id-3 {color: black;background-color: white;}#sk-container-id-3 pre{padding: 0;}#sk-container-id-3 div.sk-toggleable {background-color: white;}#sk-container-id-3 label.sk-toggleable__label {cursor: pointer;display: block;width: 100%;margin-bottom: 0;padding: 0.3em;box-sizing: border-box;text-align: center;}#sk-container-id-3 label.sk-toggleable__label-arrow:before {content: \"▸\";float: left;margin-right: 0.25em;color: #696969;}#sk-container-id-3 label.sk-toggleable__label-arrow:hover:before {color: black;}#sk-container-id-3 div.sk-estimator:hover label.sk-toggleable__label-arrow:before {color: black;}#sk-container-id-3 div.sk-toggleable__content {max-height: 0;max-width: 0;overflow: hidden;text-align: left;background-color: #f0f8ff;}#sk-container-id-3 div.sk-toggleable__content pre {margin: 0.2em;color: black;border-radius: 0.25em;background-color: #f0f8ff;}#sk-container-id-3 input.sk-toggleable__control:checked~div.sk-toggleable__content {max-height: 200px;max-width: 100%;overflow: auto;}#sk-container-id-3 input.sk-toggleable__control:checked~label.sk-toggleable__label-arrow:before {content: \"▾\";}#sk-container-id-3 div.sk-estimator input.sk-toggleable__control:checked~label.sk-toggleable__label {background-color: #d4ebff;}#sk-container-id-3 div.sk-label input.sk-toggleable__control:checked~label.sk-toggleable__label {background-color: #d4ebff;}#sk-container-id-3 input.sk-hidden--visually {border: 0;clip: rect(1px 1px 1px 1px);clip: rect(1px, 1px, 1px, 1px);height: 1px;margin: -1px;overflow: hidden;padding: 0;position: absolute;width: 1px;}#sk-container-id-3 div.sk-estimator {font-family: monospace;background-color: #f0f8ff;border: 1px dotted black;border-radius: 0.25em;box-sizing: border-box;margin-bottom: 0.5em;}#sk-container-id-3 div.sk-estimator:hover {background-color: #d4ebff;}#sk-container-id-3 div.sk-parallel-item::after {content: \"\";width: 100%;border-bottom: 1px solid gray;flex-grow: 1;}#sk-container-id-3 div.sk-label:hover label.sk-toggleable__label {background-color: #d4ebff;}#sk-container-id-3 div.sk-serial::before {content: \"\";position: absolute;border-left: 1px solid gray;box-sizing: border-box;top: 0;bottom: 0;left: 50%;z-index: 0;}#sk-container-id-3 div.sk-serial {display: flex;flex-direction: column;align-items: center;background-color: white;padding-right: 0.2em;padding-left: 0.2em;position: relative;}#sk-container-id-3 div.sk-item {position: relative;z-index: 1;}#sk-container-id-3 div.sk-parallel {display: flex;align-items: stretch;justify-content: center;background-color: white;position: relative;}#sk-container-id-3 div.sk-item::before, #sk-container-id-3 div.sk-parallel-item::before {content: \"\";position: absolute;border-left: 1px solid gray;box-sizing: border-box;top: 0;bottom: 0;left: 50%;z-index: -1;}#sk-container-id-3 div.sk-parallel-item {display: flex;flex-direction: column;z-index: 1;position: relative;background-color: white;}#sk-container-id-3 div.sk-parallel-item:first-child::after {align-self: flex-end;width: 50%;}#sk-container-id-3 div.sk-parallel-item:last-child::after {align-self: flex-start;width: 50%;}#sk-container-id-3 div.sk-parallel-item:only-child::after {width: 0;}#sk-container-id-3 div.sk-dashed-wrapped {border: 1px dashed gray;margin: 0 0.4em 0.5em 0.4em;box-sizing: border-box;padding-bottom: 0.4em;background-color: white;}#sk-container-id-3 div.sk-label label {font-family: monospace;font-weight: bold;display: inline-block;line-height: 1.2em;}#sk-container-id-3 div.sk-label-container {text-align: center;}#sk-container-id-3 div.sk-container {/* jupyter's `normalize.less` sets `[hidden] { display: none; }` but bootstrap.min.css set `[hidden] { display: none !important; }` so we also need the `!important` here to be able to override the default hidden behavior on the sphinx rendered scikit-learn.org. See: https://github.com/scikit-learn/scikit-learn/issues/21755 */display: inline-block !important;position: relative;}#sk-container-id-3 div.sk-text-repr-fallback {display: none;}</style><div id=\"sk-container-id-3\" class=\"sk-top-container\"><div class=\"sk-text-repr-fallback\"><pre>GridSearchCV(estimator=KNeighborsClassifier(),\n",
              "             param_grid={&#x27;metric&#x27;: [&#x27;euclidean&#x27;, &#x27;manhattan&#x27;],\n",
              "                         &#x27;n_neighbors&#x27;: [3, 5, 7, 9, 11, 13],\n",
              "                         &#x27;weights&#x27;: [&#x27;uniform&#x27;, &#x27;distance&#x27;]})</pre><b>In a Jupyter environment, please rerun this cell to show the HTML representation or trust the notebook. <br />On GitHub, the HTML representation is unable to render, please try loading this page with nbviewer.org.</b></div><div class=\"sk-container\" hidden><div class=\"sk-item sk-dashed-wrapped\"><div class=\"sk-label-container\"><div class=\"sk-label sk-toggleable\"><input class=\"sk-toggleable__control sk-hidden--visually\" id=\"sk-estimator-id-7\" type=\"checkbox\" ><label for=\"sk-estimator-id-7\" class=\"sk-toggleable__label sk-toggleable__label-arrow\">GridSearchCV</label><div class=\"sk-toggleable__content\"><pre>GridSearchCV(estimator=KNeighborsClassifier(),\n",
              "             param_grid={&#x27;metric&#x27;: [&#x27;euclidean&#x27;, &#x27;manhattan&#x27;],\n",
              "                         &#x27;n_neighbors&#x27;: [3, 5, 7, 9, 11, 13],\n",
              "                         &#x27;weights&#x27;: [&#x27;uniform&#x27;, &#x27;distance&#x27;]})</pre></div></div></div><div class=\"sk-parallel\"><div class=\"sk-parallel-item\"><div class=\"sk-item\"><div class=\"sk-label-container\"><div class=\"sk-label sk-toggleable\"><input class=\"sk-toggleable__control sk-hidden--visually\" id=\"sk-estimator-id-8\" type=\"checkbox\" ><label for=\"sk-estimator-id-8\" class=\"sk-toggleable__label sk-toggleable__label-arrow\">estimator: KNeighborsClassifier</label><div class=\"sk-toggleable__content\"><pre>KNeighborsClassifier()</pre></div></div></div><div class=\"sk-serial\"><div class=\"sk-item\"><div class=\"sk-estimator sk-toggleable\"><input class=\"sk-toggleable__control sk-hidden--visually\" id=\"sk-estimator-id-9\" type=\"checkbox\" ><label for=\"sk-estimator-id-9\" class=\"sk-toggleable__label sk-toggleable__label-arrow\">KNeighborsClassifier</label><div class=\"sk-toggleable__content\"><pre>KNeighborsClassifier()</pre></div></div></div></div></div></div></div></div></div></div>"
            ]
          },
          "metadata": {},
          "execution_count": 23
        }
      ],
      "source": [
        "# Начнем с KNeighborsClassifier\n",
        "params_knn = {\n",
        "    \"n_neighbors\": [3, 5, 7, 9, 11, 13],\n",
        "    \"weights\": [\"uniform\", \"distance\"],\n",
        "    \"metric\": [\"euclidean\", \"manhattan\"],\n",
        "}\n",
        "clf_knn_d = GridSearchCV(KNeighborsClassifier(), params_knn)\n",
        "clf_knn_d.fit(X_train_d, y_train_d)\n"
      ]
    },
    {
      "cell_type": "code",
      "source": [
        "print(\n",
        "    \"Лучшие параметры для KNeighborsClassifier (гипертония):\",\n",
        "    clf_knn_d.best_params_\n",
        ")\n",
        "print(\n",
        "    \"Точность KNeighborsClassifier (гипертония):\",\n",
        "    accuracy_score(y_test_d, clf_knn_d.predict(X_test_d)),\n",
        ")"
      ],
      "metadata": {
        "colab": {
          "base_uri": "https://localhost:8080/"
        },
        "id": "yIjBBxEsyKM5",
        "outputId": "4ff8f888-3890-40d5-e26d-40768e02f7d5"
      },
      "execution_count": null,
      "outputs": [
        {
          "output_type": "stream",
          "name": "stdout",
          "text": [
            "Лучшие параметры для KNeighborsClassifier (гипертония): {'metric': 'manhattan', 'n_neighbors': 13, 'weights': 'uniform'}\n",
            "Точность KNeighborsClassifier (гипертония): 0.9551985008328706\n"
          ]
        }
      ]
    },
    {
      "cell_type": "code",
      "source": [
        "# Затем DecisionTreeClassifier\n",
        "params_dtc = {\n",
        "    \"criterion\": [\"gini\", \"entropy\"],\n",
        "    \"max_depth\": [4, 5, 6, 7, 8, 9, 10, 11, 12, 15, 20, 30, 40, 50, 70, 90, 120, 150],\n",
        "}\n",
        "clf_dtc_d = GridSearchCV(DecisionTreeClassifier(), params_dtc)\n",
        "clf_dtc_d.fit(X_train_d, y_train_d)"
      ],
      "metadata": {
        "colab": {
          "base_uri": "https://localhost:8080/",
          "height": 115
        },
        "id": "Dd9dvWtYyKPg",
        "outputId": "55217f91-61cd-45e8-89e9-af5fb2a719ff"
      },
      "execution_count": null,
      "outputs": [
        {
          "output_type": "execute_result",
          "data": {
            "text/plain": [
              "GridSearchCV(estimator=DecisionTreeClassifier(),\n",
              "             param_grid={'criterion': ['gini', 'entropy'],\n",
              "                         'max_depth': [4, 5, 6, 7, 8, 9, 10, 11, 12, 15, 20, 30,\n",
              "                                       40, 50, 70, 90, 120, 150]})"
            ],
            "text/html": [
              "<style>#sk-container-id-4 {color: black;background-color: white;}#sk-container-id-4 pre{padding: 0;}#sk-container-id-4 div.sk-toggleable {background-color: white;}#sk-container-id-4 label.sk-toggleable__label {cursor: pointer;display: block;width: 100%;margin-bottom: 0;padding: 0.3em;box-sizing: border-box;text-align: center;}#sk-container-id-4 label.sk-toggleable__label-arrow:before {content: \"▸\";float: left;margin-right: 0.25em;color: #696969;}#sk-container-id-4 label.sk-toggleable__label-arrow:hover:before {color: black;}#sk-container-id-4 div.sk-estimator:hover label.sk-toggleable__label-arrow:before {color: black;}#sk-container-id-4 div.sk-toggleable__content {max-height: 0;max-width: 0;overflow: hidden;text-align: left;background-color: #f0f8ff;}#sk-container-id-4 div.sk-toggleable__content pre {margin: 0.2em;color: black;border-radius: 0.25em;background-color: #f0f8ff;}#sk-container-id-4 input.sk-toggleable__control:checked~div.sk-toggleable__content {max-height: 200px;max-width: 100%;overflow: auto;}#sk-container-id-4 input.sk-toggleable__control:checked~label.sk-toggleable__label-arrow:before {content: \"▾\";}#sk-container-id-4 div.sk-estimator input.sk-toggleable__control:checked~label.sk-toggleable__label {background-color: #d4ebff;}#sk-container-id-4 div.sk-label input.sk-toggleable__control:checked~label.sk-toggleable__label {background-color: #d4ebff;}#sk-container-id-4 input.sk-hidden--visually {border: 0;clip: rect(1px 1px 1px 1px);clip: rect(1px, 1px, 1px, 1px);height: 1px;margin: -1px;overflow: hidden;padding: 0;position: absolute;width: 1px;}#sk-container-id-4 div.sk-estimator {font-family: monospace;background-color: #f0f8ff;border: 1px dotted black;border-radius: 0.25em;box-sizing: border-box;margin-bottom: 0.5em;}#sk-container-id-4 div.sk-estimator:hover {background-color: #d4ebff;}#sk-container-id-4 div.sk-parallel-item::after {content: \"\";width: 100%;border-bottom: 1px solid gray;flex-grow: 1;}#sk-container-id-4 div.sk-label:hover label.sk-toggleable__label {background-color: #d4ebff;}#sk-container-id-4 div.sk-serial::before {content: \"\";position: absolute;border-left: 1px solid gray;box-sizing: border-box;top: 0;bottom: 0;left: 50%;z-index: 0;}#sk-container-id-4 div.sk-serial {display: flex;flex-direction: column;align-items: center;background-color: white;padding-right: 0.2em;padding-left: 0.2em;position: relative;}#sk-container-id-4 div.sk-item {position: relative;z-index: 1;}#sk-container-id-4 div.sk-parallel {display: flex;align-items: stretch;justify-content: center;background-color: white;position: relative;}#sk-container-id-4 div.sk-item::before, #sk-container-id-4 div.sk-parallel-item::before {content: \"\";position: absolute;border-left: 1px solid gray;box-sizing: border-box;top: 0;bottom: 0;left: 50%;z-index: -1;}#sk-container-id-4 div.sk-parallel-item {display: flex;flex-direction: column;z-index: 1;position: relative;background-color: white;}#sk-container-id-4 div.sk-parallel-item:first-child::after {align-self: flex-end;width: 50%;}#sk-container-id-4 div.sk-parallel-item:last-child::after {align-self: flex-start;width: 50%;}#sk-container-id-4 div.sk-parallel-item:only-child::after {width: 0;}#sk-container-id-4 div.sk-dashed-wrapped {border: 1px dashed gray;margin: 0 0.4em 0.5em 0.4em;box-sizing: border-box;padding-bottom: 0.4em;background-color: white;}#sk-container-id-4 div.sk-label label {font-family: monospace;font-weight: bold;display: inline-block;line-height: 1.2em;}#sk-container-id-4 div.sk-label-container {text-align: center;}#sk-container-id-4 div.sk-container {/* jupyter's `normalize.less` sets `[hidden] { display: none; }` but bootstrap.min.css set `[hidden] { display: none !important; }` so we also need the `!important` here to be able to override the default hidden behavior on the sphinx rendered scikit-learn.org. See: https://github.com/scikit-learn/scikit-learn/issues/21755 */display: inline-block !important;position: relative;}#sk-container-id-4 div.sk-text-repr-fallback {display: none;}</style><div id=\"sk-container-id-4\" class=\"sk-top-container\"><div class=\"sk-text-repr-fallback\"><pre>GridSearchCV(estimator=DecisionTreeClassifier(),\n",
              "             param_grid={&#x27;criterion&#x27;: [&#x27;gini&#x27;, &#x27;entropy&#x27;],\n",
              "                         &#x27;max_depth&#x27;: [4, 5, 6, 7, 8, 9, 10, 11, 12, 15, 20, 30,\n",
              "                                       40, 50, 70, 90, 120, 150]})</pre><b>In a Jupyter environment, please rerun this cell to show the HTML representation or trust the notebook. <br />On GitHub, the HTML representation is unable to render, please try loading this page with nbviewer.org.</b></div><div class=\"sk-container\" hidden><div class=\"sk-item sk-dashed-wrapped\"><div class=\"sk-label-container\"><div class=\"sk-label sk-toggleable\"><input class=\"sk-toggleable__control sk-hidden--visually\" id=\"sk-estimator-id-10\" type=\"checkbox\" ><label for=\"sk-estimator-id-10\" class=\"sk-toggleable__label sk-toggleable__label-arrow\">GridSearchCV</label><div class=\"sk-toggleable__content\"><pre>GridSearchCV(estimator=DecisionTreeClassifier(),\n",
              "             param_grid={&#x27;criterion&#x27;: [&#x27;gini&#x27;, &#x27;entropy&#x27;],\n",
              "                         &#x27;max_depth&#x27;: [4, 5, 6, 7, 8, 9, 10, 11, 12, 15, 20, 30,\n",
              "                                       40, 50, 70, 90, 120, 150]})</pre></div></div></div><div class=\"sk-parallel\"><div class=\"sk-parallel-item\"><div class=\"sk-item\"><div class=\"sk-label-container\"><div class=\"sk-label sk-toggleable\"><input class=\"sk-toggleable__control sk-hidden--visually\" id=\"sk-estimator-id-11\" type=\"checkbox\" ><label for=\"sk-estimator-id-11\" class=\"sk-toggleable__label sk-toggleable__label-arrow\">estimator: DecisionTreeClassifier</label><div class=\"sk-toggleable__content\"><pre>DecisionTreeClassifier()</pre></div></div></div><div class=\"sk-serial\"><div class=\"sk-item\"><div class=\"sk-estimator sk-toggleable\"><input class=\"sk-toggleable__control sk-hidden--visually\" id=\"sk-estimator-id-12\" type=\"checkbox\" ><label for=\"sk-estimator-id-12\" class=\"sk-toggleable__label sk-toggleable__label-arrow\">DecisionTreeClassifier</label><div class=\"sk-toggleable__content\"><pre>DecisionTreeClassifier()</pre></div></div></div></div></div></div></div></div></div></div>"
            ]
          },
          "metadata": {},
          "execution_count": 25
        }
      ]
    },
    {
      "cell_type": "code",
      "source": [
        "print(\n",
        "    \"Лучшие параметры для DecisionTreeClassifier (гипертония):\",\n",
        "    clf_dtc_d.best_params_\n",
        ")\n",
        "print(\n",
        "    \"Точность DecisionTreeClassifier (гипертония):\",\n",
        "    accuracy_score(y_test_d, clf_dtc_d.predict(X_test_d)),\n",
        ")\n"
      ],
      "metadata": {
        "colab": {
          "base_uri": "https://localhost:8080/"
        },
        "id": "YZdji9MFyOEC",
        "outputId": "a4f5d079-4bda-4350-9e46-541645149860"
      },
      "execution_count": null,
      "outputs": [
        {
          "output_type": "stream",
          "name": "stdout",
          "text": [
            "Лучшие параметры для DecisionTreeClassifier (гипертония): {'criterion': 'entropy', 'max_depth': 4}\n",
            "Точность DecisionTreeClassifier (гипертония): 0.9552332037756802\n"
          ]
        }
      ]
    },
    {
      "cell_type": "code",
      "source": [
        "best_diabetes_clf = clf_dtc_d"
      ],
      "metadata": {
        "id": "7u5T-ryt2HxP"
      },
      "execution_count": null,
      "outputs": []
    },
    {
      "cell_type": "markdown",
      "source": [
        "# Интерфейс для пользователя"
      ],
      "metadata": {
        "id": "2CYYdPj_6Ucr"
      }
    },
    {
      "cell_type": "markdown",
      "source": [
        "Интерфейс для пользователя с возможностью ввода результатов лабораторных исследований, осмотра врача, жалоб пациентов."
      ],
      "metadata": {
        "id": "040uE7bkyeqU"
      }
    },
    {
      "cell_type": "code",
      "execution_count": null,
      "metadata": {
        "id": "asH-FfVbhC3e"
      },
      "outputs": [],
      "source": [
        "def predict_diseases(patient_data, best_hypertension_clf, best_diabetes_clf, ct):\n",
        "    \"\"\"\n",
        "    Принимает данные пациента и две обученные модели для предсказания гипертензии и диабета.\n",
        "    Возвращает предсказания для каждого заболевания.\n",
        "    \"\"\"\n",
        "\n",
        "    # Преобразование данных пола пациента\n",
        "    patient_data[\"Patient Gender_M\"] = 1 if patient_data[\"Patient Gender\"] == \"M\" else 0\n",
        "    del patient_data[\"Patient Gender\"]\n",
        "\n",
        "    # Преобразование словаря в DataFrame\n",
        "    patient_df = pd.DataFrame([patient_data])\n",
        "\n",
        "    # Стандартизация данных\n",
        "    patient_df = pd.DataFrame(ct.transform(patient_df), columns=patient_df.columns)\n",
        "\n",
        "    # Подготовка данных для моделей\n",
        "    data_for_hypertension = patient_df[\n",
        "        [\n",
        "            \"Glucose Fasting\",\n",
        "            \"Total Cholesterol\",\n",
        "            \"MDRD\",\n",
        "            \"BMI\",\n",
        "            \"Age\",\n",
        "            \"Patient Gender_M\",\n",
        "        ]\n",
        "    ]\n",
        "    data_for_diabetes = patient_df[\n",
        "        [\n",
        "            \"Total Cholesterol\",\n",
        "            \"MDRD\",\n",
        "            \"Systolic Blood Pressure\",\n",
        "            \"Diastolic Blood Pressure\",\n",
        "            \"BMI\",\n",
        "            \"Age\",\n",
        "            \"Patient Gender_M\",\n",
        "        ]\n",
        "    ]\n",
        "\n",
        "    # Предсказание заболеваний\n",
        "    hypertension_prediction = best_hypertension_clf.predict(data_for_hypertension)[0]\n",
        "    diabetes_prediction = best_diabetes_clf.predict(data_for_diabetes)[0]\n",
        "\n",
        "    return hypertension_prediction, diabetes_prediction\n"
      ]
    },
    {
      "cell_type": "code",
      "source": [
        "def collect_patient_data():\n",
        "    \"\"\"\n",
        "    Функция для сбора медицинских данных пациента.\n",
        "    \"\"\"\n",
        "    print(\"Введите медицинские данные пациента.\")\n",
        "\n",
        "    # Лабораторные исследования\n",
        "    glucose_fasting = float(input(\"Уровень глюкозы натощак (ммоль/л): \"))\n",
        "    total_cholesterol = float(input(\"Общий холестерин (ммоль/л): \"))\n",
        "    mdrd = float(input(\"Фильтрационная способность почек (MDRD, мл/мин/1.73м²): \"))\n",
        "\n",
        "    # Результаты объективного осмотра\n",
        "    systolic_bp = float(input(\"Систолическое артериальное давление (мм рт. ст.): \"))\n",
        "    diastolic_bp = float(input(\"Диастолическое артериальное давление (мм рт. ст.): \"))\n",
        "    bmi = float(input(\"Индекс массы тела (BMI): \"))\n",
        "\n",
        "    # Дополнительные данные\n",
        "    gender = input(\"Пол пациента (M/F): \")\n",
        "    age = int(input(\"Возраст пациента: \"))\n",
        "\n",
        "    patient_data = {\n",
        "        \"Glucose Fasting\": glucose_fasting,\n",
        "        \"Total Cholesterol\": total_cholesterol,\n",
        "        \"MDRD\": mdrd,\n",
        "        \"Systolic Blood Pressure\": systolic_bp,\n",
        "        \"Diastolic Blood Pressure\": diastolic_bp,\n",
        "        \"BMI\": bmi,\n",
        "        \"Patient Gender\": gender,\n",
        "        \"Age\": age\n",
        "    }\n",
        "\n",
        "    return patient_data\n"
      ],
      "metadata": {
        "id": "qfzUt3t-BmXB"
      },
      "execution_count": null,
      "outputs": []
    },
    {
      "cell_type": "code",
      "source": [
        "# patient_data = collect_patient_data()\n",
        "patient_data = {\n",
        "    \"Glucose Fasting\": 1000,\n",
        "    \"Total Cholesterol\": 1000,\n",
        "    \"MDRD\": 1000,\n",
        "    \"Systolic Blood Pressure\": 1000,\n",
        "    \"Diastolic Blood Pressure\": 1000,\n",
        "    \"BMI\": 1000,\n",
        "    \"Patient Gender\": \"1\",\n",
        "    \"Age\": 1000,\n",
        "}\n"
      ],
      "metadata": {
        "id": "1030QwybBtNB"
      },
      "execution_count": null,
      "outputs": []
    },
    {
      "cell_type": "code",
      "execution_count": null,
      "metadata": {
        "id": "NHJyh6achbiG",
        "colab": {
          "base_uri": "https://localhost:8080/"
        },
        "outputId": "dfc50448-1c3a-4edc-ad23-56b560b9f546"
      },
      "outputs": [
        {
          "output_type": "stream",
          "name": "stdout",
          "text": [
            "Риск гипертензии: 1\n",
            "Риск диабета: 0\n"
          ]
        }
      ],
      "source": [
        "hypertension_pred, diabetes_pred = predict_diseases(\n",
        "    patient_data, best_hypertension_clf, best_diabetes_clf, ct\n",
        ")\n",
        "print(\"Риск гипертензии:\", hypertension_pred)\n",
        "print(\"Риск диабета:\", diabetes_pred)\n"
      ]
    },
    {
      "cell_type": "markdown",
      "source": [
        "# Кластеризация с помощью карты Кохонена"
      ],
      "metadata": {
        "id": "c7rdaGIyRrOe"
      }
    },
    {
      "cell_type": "markdown",
      "source": [
        "Обучим карту Кохонена на данных и проанализируем результаты.\n",
        "\n",
        "Выберем три медицинских показателя из файла. Возьмем, к примеру, следующие показатели:\n",
        "\n",
        "- `Уровень глюкозы натощак (Glucose Fasting)`\n",
        "- `Общий холестерин (Total Cholesterol)`\n",
        "- `Систолическое артериальное давление (Systolic Blood Pressure)`\n"
      ],
      "metadata": {
        "id": "qauPCWS7SLsm"
      }
    },
    {
      "cell_type": "code",
      "source": [
        "selected_features = ['Glucose Fasting', 'Total Cholesterol', 'Systolic Blood Pressure']\n",
        "data_selected = data_ml[selected_features].dropna()"
      ],
      "metadata": {
        "id": "qia3AZ2_CjcO"
      },
      "execution_count": null,
      "outputs": []
    },
    {
      "cell_type": "code",
      "source": [
        "# Стандартизация данных\n",
        "data_std = (data_selected - data_selected.mean()) / data_selected.std()\n",
        "data_np = data_std.values\n",
        "\n",
        "data_np.shape, data_std.head()"
      ],
      "metadata": {
        "colab": {
          "base_uri": "https://localhost:8080/"
        },
        "id": "kIwNGEHuSb6G",
        "outputId": "f6062572-a86e-4eb0-945c-a89181ffbaa8"
      },
      "execution_count": null,
      "outputs": [
        {
          "output_type": "execute_result",
          "data": {
            "text/plain": [
              "((115262, 3),\n",
              "    Glucose Fasting  Total Cholesterol  Systolic Blood Pressure\n",
              " 0     6.380321e-17          -0.244699                -0.538924\n",
              " 1    -1.920009e-01           0.141686                -0.538924\n",
              " 2    -1.325004e-01           0.045090                 0.970753\n",
              " 3     1.355014e+00           0.286580                 0.970753\n",
              " 4    -7.299977e-02           0.576369                -2.048601)"
            ]
          },
          "metadata": {},
          "execution_count": 63
        }
      ]
    },
    {
      "cell_type": "markdown",
      "source": [
        "## Обучение карты Кохонена"
      ],
      "metadata": {
        "id": "-LfRyf49S3ni"
      }
    },
    {
      "cell_type": "code",
      "source": [
        "!pip install -q MiniSom"
      ],
      "metadata": {
        "colab": {
          "base_uri": "https://localhost:8080/"
        },
        "id": "6KmYa17nTGb0",
        "outputId": "d8ae2b70-9d6d-4d0c-c34c-b976b26fde90"
      },
      "execution_count": null,
      "outputs": [
        {
          "output_type": "stream",
          "name": "stdout",
          "text": [
            "  Preparing metadata (setup.py) ... \u001b[?25l\u001b[?25hdone\n",
            "  Building wheel for MiniSom (setup.py) ... \u001b[?25l\u001b[?25hdone\n"
          ]
        }
      ]
    },
    {
      "cell_type": "code",
      "source": [
        "from minisom import MiniSom"
      ],
      "metadata": {
        "id": "z3XJISsMTBxC"
      },
      "execution_count": null,
      "outputs": []
    },
    {
      "cell_type": "markdown",
      "source": [
        "В коде ниже:\n",
        "- `x=10, y=10` задает размеры карты.\n",
        "- `input_len=len(selected_features)` указывает на количество входных признаков.\n",
        "- `sigma` и `learning_rate` - параметры обучения."
      ],
      "metadata": {
        "id": "dE1UELsYTqR6"
      }
    },
    {
      "cell_type": "code",
      "source": [
        "# Инициализация карты Кохонена\n",
        "som = MiniSom(\n",
        "    x=10, y=10, input_len=len(selected_features), sigma=0.5, learning_rate=0.5\n",
        ")\n",
        "\n",
        "# Случайная инициализация весов\n",
        "som.random_weights_init(data_np)\n",
        "\n",
        "# Обучение\n",
        "som.train_random(data_np, 100)\n",
        "\n",
        "# Визуализация карты\n",
        "plt.figure(figsize=(10, 10))\n",
        "plt.pcolor(som.distance_map().T, cmap=\"bone_r\")  # Визуализация карты расстояний\n",
        "plt.colorbar()\n",
        "plt.show()\n"
      ],
      "metadata": {
        "colab": {
          "base_uri": "https://localhost:8080/",
          "height": 863
        },
        "id": "y7Qr7p0bSn79",
        "outputId": "d3456653-e481-4767-f62f-785bdaf37744"
      },
      "execution_count": null,
      "outputs": [
        {
          "output_type": "display_data",
          "data": {
            "text/plain": [
              "<Figure size 1000x1000 with 2 Axes>"
            ],
            "image/png": "[encoded data removed]"
          },
          "metadata": {}
        }
      ]
    },
    {
      "cell_type": "markdown",
      "source": [
        "**Интерпретация карты:**\n",
        "\n",
        "- **Темные ячейки:** Большое расстояние. Векторы признаков сильно отличаются друг от друга. Такие области обычно представляют границы между различными кластерами на карте.\n",
        "- **Светлые ячейки:** Приближенные к белому цвету, показывают меньшие расстояния. Это указывает на то, что векторы признаков более похожи друг на друга. Это говорит о принадлежности к одному кластеру или близким кластерам.\n",
        "- **Градиент цветов:** Плавный переход от темных к светлым оттенкам указывает на наличие связанных или переходных кластеров."
      ],
      "metadata": {
        "id": "xbXJLBKjUHpF"
      }
    },
    {
      "cell_type": "markdown",
      "source": [
        "**Распределение признаков по карте**"
      ],
      "metadata": {
        "id": "vfkr8R1TVM7b"
      }
    },
    {
      "cell_type": "code",
      "source": [
        "def plot_component_planes(som, feature_names):\n",
        "    n_features = len(feature_names)\n",
        "    plt.figure(figsize=(n_features * 5, 5))\n",
        "    for i, feature_name in enumerate(feature_names):\n",
        "        plt.subplot(1, n_features, i + 1)\n",
        "        plt.title(feature_name)\n",
        "        component_plane = som.get_weights()[:, :, i]\n",
        "        plt.pcolor(component_plane, cmap=\"coolwarm\")\n",
        "        plt.colorbar()\n",
        "        plt.xticks(np.arange(component_plane.shape[0] + 1))\n",
        "        plt.yticks(np.arange(component_plane.shape[1] + 1))\n",
        "    plt.tight_layout()\n",
        "    plt.show()\n",
        "\n",
        "\n",
        "plot_component_planes(som, selected_features)\n"
      ],
      "metadata": {
        "colab": {
          "base_uri": "https://localhost:8080/",
          "height": 289
        },
        "id": "w7FWSBRVUg4Q",
        "outputId": "3fec8a22-8fa5-4924-845f-e8967a4b2569"
      },
      "execution_count": null,
      "outputs": [
        {
          "output_type": "display_data",
          "data": {
            "text/plain": [
              "<Figure size 1500x500 with 6 Axes>"
            ],
            "image/png": "[encoded data removed]"
          },
          "metadata": {}
        }
      ]
    },
    {
      "cell_type": "code",
      "source": [],
      "metadata": {
        "id": "JMS0erzKVEqd"
      },
      "execution_count": null,
      "outputs": []
    }
  ],
  "metadata": {
    "colab": {
      "provenance": [],
      "include_colab_link": true
    },
    "kernelspec": {
      "display_name": "Python 3",
      "name": "python3"
    },
    "language_info": {
      "name": "python"
    }
  },
  "nbformat": 4,
  "nbformat_minor": 0
}